{
 "cells": [
  {
   "cell_type": "markdown",
   "id": "982cf665",
   "metadata": {},
   "source": [
    "## Validation demo\n",
    "\n",
    "authors: Tuguldur Sukhbold\n",
    "\n",
    "Our training set has 366 fields, where 300 are used in training and the rest for validation. In this notebook we perform validations on the last 66 fields using trained weights.\n",
    "\n",
    "First we load the trained weights:"
   ]
  },
  {
   "cell_type": "code",
   "execution_count": 1,
   "id": "789afe1b",
   "metadata": {},
   "outputs": [
    {
     "name": "stdout",
     "output_type": "stream",
     "text": [
      "cpu\n"
     ]
    }
   ],
   "source": [
    "datapath = '../../d/'\n",
    "PATH2weight = '../../weights/circle_ep15_small.pth'\n",
    "\n",
    "import torch\n",
    "import torchvision\n",
    "from torchvision.models.detection.faster_rcnn import FastRCNNPredictor\n",
    "from torchvision.models.detection.mask_rcnn import MaskRCNNPredictor\n",
    "from torchvision.transforms import functional as F\n",
    "\n",
    "import pandas as pd\n",
    "import numpy as np\n",
    "import matplotlib.pyplot as plt\n",
    "from PIL import Image\n",
    "\n",
    "device = torch.device(\"cuda\" if torch.cuda.is_available() else \"cpu\")\n",
    "\n",
    "def getInstanceSegmentationModel(num_classes):\n",
    "    \"\"\"\n",
    "    the exact instance segmentation model used for training\n",
    "    note: do not change anything here, or else weights will not properly load\n",
    "    \"\"\"\n",
    "\n",
    "    # pre-trained model on COCO\n",
    "    model = torchvision.models.detection.maskrcnn_resnet50_fpn(pretrained=True)\n",
    "\n",
    "    # number of input features for the classifier\n",
    "    in_features = model.roi_heads.box_predictor.cls_score.in_features\n",
    "    # replace the pre-trained head\n",
    "    model.roi_heads.box_predictor = FastRCNNPredictor(in_features, num_classes)\n",
    "\n",
    "    # number of input features for the mask classifier\n",
    "    in_features_mask = model.roi_heads.mask_predictor.conv5_mask.in_channels\n",
    "    hidden_layer = 256\n",
    "    # replace the mask predictor\n",
    "    model.roi_heads.mask_predictor = MaskRCNNPredictor(in_features_mask,\n",
    "                                                       hidden_layer,\n",
    "                                                       num_classes)\n",
    "\n",
    "    return model\n",
    "\n",
    "\n",
    "def loadTrainedModel(PATH2weights):\n",
    "    \"\"\"\n",
    "    load the weight from given path\n",
    "    \"\"\"\n",
    "\n",
    "    num_classes = 2\n",
    "    model = getInstanceSegmentationModel(num_classes)\n",
    "    model.load_state_dict(torch.load(PATH2weights, map_location=device))\n",
    "\n",
    "    return model\n",
    "\n",
    "\n",
    "print(device)"
   ]
  },
  {
   "cell_type": "code",
   "execution_count": 2,
   "id": "7376b258",
   "metadata": {},
   "outputs": [],
   "source": [
    "def getPlanet(fieldID):\n",
    "    j17 = plt.imread(f'{datapath}planet-jun17/{fieldID}.png')\n",
    "    j18 = plt.imread(f'{datapath}planet-jun18/{fieldID}.png')\n",
    "    d17 = plt.imread(f'{datapath}planet-dec17/{fieldID}.png')\n",
    "    d18 = plt.imread(f'{datapath}planet-dec18/{fieldID}.png')\n",
    "    return j17, j18, d17, d18\n",
    "\n",
    "def getHighContrast(j17, j18, d17, d18):\n",
    "    summer = j17 + j18\n",
    "    summer = summer / np.amax(summer)\n",
    "    winter = d17 + d18\n",
    "    winter = winter / np.amax(winter)\n",
    "    diff = winter * summer\n",
    "    return diff\n"
   ]
  },
  {
   "cell_type": "code",
   "execution_count": 3,
   "id": "6106e7c8",
   "metadata": {},
   "outputs": [],
   "source": [
    "def getGrayNNmask(model):\n",
    "    \"\"\"\n",
    "    evaluation based on loaded weight\n",
    "    \"\"\"\n",
    "\n",
    "    # convert image to tensor\n",
    "    img   = Image.open('tmp.png').convert(\"RGB\")\n",
    "    imgT  = F.to_tensor(img)\n",
    "\n",
    "    # evaluate\n",
    "    model.eval()\n",
    "    with torch.no_grad(): prediction = model([imgT.to(device)])\n",
    "\n",
    "    # convert result back to gray image\n",
    "    img = Image.fromarray(prediction[0]['masks'][0, 0].mul(255).byte().cpu().numpy())\n",
    "    img = img.convert('L')\n",
    "\n",
    "    return np.array(img)\n",
    "\n",
    "\n",
    "def makeEnhancedImage(fieldID):\n",
    "    j17, j18, d17, d18 = getPlanet(fieldID)\n",
    "    img = getHighContrast(j17, j18, d17, d18)\n",
    "    img = (img * 255).astype(np.uint8)\n",
    "    img = Image.fromarray(img)\n",
    "    img.save('tmp.png')\n"
   ]
  },
  {
   "cell_type": "code",
   "execution_count": 4,
   "id": "cd8aa748",
   "metadata": {},
   "outputs": [],
   "source": [
    "def getDisplacement1(mask):\n",
    "    \"\"\"\n",
    "    based on dist to mask center\n",
    "    \"\"\"\n",
    "    \n",
    "    # just avg point for center for simple shapes\n",
    "    xindx = np.where(mask > 0)[-1]\n",
    "    yindx = np.where(mask > 0)[0]\n",
    "    xmin, xmax = min(xindx), max(xindx)\n",
    "    ymin, ymax = min(yindx), max(yindx)\n",
    "    x1 = xmin + (xmax - xmin) / 2.\n",
    "    y1 = ymin + (ymax - ymin) / 2.\n",
    "        \n",
    "    # displacement\n",
    "    cX = 10.986328125 / 2\n",
    "    cY = 10.985731758 / 2\n",
    "    x0, y0 = mask.shape[1]//2, mask.shape[0]//2\n",
    "    x = (x0-np.round(x1)) / mask.shape[1] *cX\n",
    "    y = (y1-np.round(y0)) / mask.shape[0] *cY\n",
    "    \n",
    "    return x, y\n",
    "\n",
    "def getDisplacement2(mask):\n",
    "    \"\"\"\n",
    "    based on dist to closest vertex of bbox\n",
    "    \"\"\"\n",
    "    \n",
    "    # image center\n",
    "    x0, y0 = mask.shape[1]//2, mask.shape[0]//2\n",
    "\n",
    "    # bbox vertices\n",
    "    xindx = np.where(mask > 0)[-1]\n",
    "    yindx = np.where(mask > 0)[0]\n",
    "    xmin, xmax = min(xindx), max(xindx)\n",
    "    ymin, ymax = min(yindx), max(yindx)\n",
    "\n",
    "    # vertex with min distance\n",
    "    xs = np.array([xmin, xmin, xmax, xmax])\n",
    "    ys = np.array([ymax, ymin, ymin, ymax])\n",
    "    ds = np.sqrt((xs-x0)**2 + (ys-y0)**2)\n",
    "    imin = np.where(ds == min(ds))[0][0]\n",
    "    x1, y1 = xs[imin], ys[imin]\n",
    "        \n",
    "    # displacement\n",
    "    cX = 10.986328125 / 2\n",
    "    cY = 10.985731758 / 2\n",
    "    x = (x0-np.round(x1)) / mask.shape[1] *cX\n",
    "    y = (y1-np.round(y0)) / mask.shape[0] *cY\n",
    "    \n",
    "    return x, y"
   ]
  },
  {
   "cell_type": "code",
   "execution_count": 5,
   "id": "4fada08f",
   "metadata": {},
   "outputs": [
    {
     "name": "stdout",
     "output_type": "stream",
     "text": [
      "300\n",
      "301\n",
      "302\n",
      "303\n",
      "304\n",
      "305\n",
      "306\n",
      "307\n",
      "308\n",
      "309\n",
      "310\n",
      "311\n",
      "312\n",
      "313\n",
      "314\n",
      "315\n",
      "316\n",
      "317\n",
      "318\n",
      "319\n",
      "320\n",
      "321\n",
      "322\n",
      "323\n",
      "324\n",
      "325\n",
      "326\n",
      "327\n",
      "328\n",
      "329\n",
      "330\n",
      "331\n",
      "332\n",
      "333\n",
      "334\n",
      "335\n",
      "336\n",
      "337\n",
      "338\n",
      "339\n",
      "340\n",
      "341\n",
      "342\n",
      "343\n",
      "344\n",
      "345\n",
      "346\n",
      "347\n",
      "348\n",
      "349\n",
      "350\n",
      "351\n",
      "352\n",
      "353\n",
      "354\n",
      "355\n",
      "356\n",
      "357\n",
      "358\n",
      "359\n",
      "360\n",
      "361\n",
      "362\n",
      "363\n",
      "364\n",
      "365\n"
     ]
    }
   ],
   "source": [
    "model = loadTrainedModel(PATH2weight)\n",
    "train = pd.read_csv(f'{datapath}train-unique.csv')\n",
    "\n",
    "xPred, yPred = [], []\n",
    "xChk,  yChk  = [], []\n",
    "for index, row in train.iterrows():\n",
    "    if index > 299:\n",
    "        fieldID = row.ID.split('_')[-1]\n",
    "        makeEnhancedImage(fieldID)\n",
    "        mask = getGrayNNmask(model)\n",
    "        x, y = getDisplacement2(mask)\n",
    "        xPred.append(x)\n",
    "        yPred.append(y)\n",
    "        xChk.append(row['x'])\n",
    "        yChk.append(row['y'])\n",
    "        print(index)\n",
    "\n",
    "xPred = np.array(xPred)\n",
    "yPred = np.array(yPred)\n",
    "xChk  = np.array(xChk)\n",
    "yChk  = np.array(yChk)"
   ]
  },
  {
   "cell_type": "code",
   "execution_count": 23,
   "id": "ec70403c",
   "metadata": {},
   "outputs": [
    {
     "data": {
      "image/png": "[encoded data removed]",
      "text/plain": [
       "<Figure size 720x360 with 2 Axes>"
      ]
     },
     "metadata": {
      "needs_background": "light"
     },
     "output_type": "display_data"
    }
   ],
   "source": [
    "fig, ax = plt.subplots(ncols=2, sharex=True, sharey=True, figsize=(10,5))\n",
    "ax[0].scatter(xChk, xPred)\n",
    "ax[0].set_title('x-prediction vs x-validation')\n",
    "ax[0].set_xlim(min(xChk), max(xChk))\n",
    "ax[0].plot(xChk, xChk, c='black')\n",
    "\n",
    "ax[1].scatter(yChk, yPred)\n",
    "ax[1].set_title('y-prediction vs y-validation')\n",
    "ax[1].set_xlim(min(yChk), max(yChk))\n",
    "ax[1].plot(yChk, yChk, c='black')\n",
    "plt.show()"
   ]
  },
  {
   "cell_type": "code",
   "execution_count": null,
   "id": "bd601884",
   "metadata": {},
   "outputs": [],
   "source": []
  },
  {
   "cell_type": "code",
   "execution_count": 7,
   "id": "194687ea",
   "metadata": {},
   "outputs": [
    {
     "data": {
      "image/png": "[encoded data removed]",
      "text/plain": [
       "<Figure size 432x288 with 2 Axes>"
      ]
     },
     "metadata": {
      "needs_background": "light"
     },
     "output_type": "display_data"
    }
   ],
   "source": [
    "fig, ax = plt.subplots(ncols=2, sharex=True, sharey=True)\n",
    "ax[0].scatter(np.arange(len(xChk)), abs(xChk - xPred))\n",
    "ax[0].set_title('x-prediction vs x-validation')\n",
    "ax[1].scatter(np.arange(len(xChk)), abs(yChk - yPred))\n",
    "ax[1].set_title('y-prediction vs y-validation')\n",
    "plt.show()"
   ]
  },
  {
   "cell_type": "code",
   "execution_count": 26,
   "id": "3b412aee",
   "metadata": {},
   "outputs": [
    {
     "data": {
      "text/plain": [
       "0.3502145379427588"
      ]
     },
     "execution_count": 26,
     "metadata": {},
     "output_type": "execute_result"
    }
   ],
   "source": [
    "from sklearn.metrics import mean_absolute_error\n",
    "\n",
    "tst = np.column_stack((xChk, yChk))\n",
    "pred = np.column_stack((xPred, yPred))\n",
    "\n",
    "mean_absolute_error(tst, pred)"
   ]
  },
  {
   "cell_type": "code",
   "execution_count": null,
   "id": "0683d0db",
   "metadata": {},
   "outputs": [],
   "source": []
  }
 ],
 "metadata": {
  "kernelspec": {
   "display_name": "Python 3",
   "language": "python",
   "name": "python3"
  },
  "language_info": {
   "codemirror_mode": {
    "name": "ipython",
    "version": 3
   },
   "file_extension": ".py",
   "mimetype": "text/x-python",
   "name": "python",
   "nbconvert_exporter": "python",
   "pygments_lexer": "ipython3",
   "version": "3.6.13"
  }
 },
 "nbformat": 4,
 "nbformat_minor": 5
}
