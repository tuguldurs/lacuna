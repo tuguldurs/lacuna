{
 "cells": [
  {
   "cell_type": "markdown",
   "metadata": {},
   "source": [
    "# A CNN leveraging Sentinel Images\n",
    "\n",
    "authors: Michael Darcy\n",
    "\n",
    "This notebook contains a convolutional neural network implementation for the Lacuna Field Center prediction challenge. The network architecture is based on the pretrained ResNet152 network, available through PyTorch, trained with Absolute Mean Loss according to the competition rules. The ResNet152 output layer was modified to two floating-point classes to predict the x and y displacement. Only the images were used from the dataset. "
   ]
  },
  {
   "cell_type": "code",
   "execution_count": 11,
   "metadata": {},
   "outputs": [
    {
     "name": "stdout",
     "output_type": "stream",
     "text": [
      "The nb_black extension is already loaded. To reload it, use:\n",
      "  %reload_ext nb_black\n"
     ]
    },
    {
     "data": {
      "application/javascript": [
       "\n",
       "            setTimeout(function() {\n",
       "                var nbb_cell_id = 11;\n",
       "                var nbb_unformatted_code = \"import pandas_path\\nfrom IPython.display import Image\\nfrom PIL import Image as pil_image\\n\\nimport torch\\nfrom torch.utils.data import Dataset\\nfrom torchvision import transforms\\nimport warnings\\n\\nimport pytorch_lightning as pl\\nfrom torch.utils.data import DataLoader\\nimport torchvision.models as models\\nfrom tqdm import tqdm\\nfrom torch import nn\\n\\nfrom pathlib import Path\\n\\nimport matplotlib.pyplot as plt\\nimport numpy as np\\nimport pandas as pd\\nimport seaborn as sns\\nfrom itertools import product as iterp\\n\\n%load_ext nb_black\\n\\n# this path is for the images\\ndatapath = \\\"C:/Users/micha/OneDrive/Documents/GitHub/Lacuna/sentinel/\\\"\\n\\n# this path is for the training and test csv files\\nDATA_PATH = \\\"C:/Users/micha/OneDrive/Documents/GitHub/Lacuna/\\\"\";\n",
       "                var nbb_formatted_code = \"import pandas_path\\nfrom IPython.display import Image\\nfrom PIL import Image as pil_image\\n\\nimport torch\\nfrom torch.utils.data import Dataset\\nfrom torchvision import transforms\\nimport warnings\\n\\nimport pytorch_lightning as pl\\nfrom torch.utils.data import DataLoader\\nimport torchvision.models as models\\nfrom tqdm import tqdm\\nfrom torch import nn\\n\\nfrom pathlib import Path\\n\\nimport matplotlib.pyplot as plt\\nimport numpy as np\\nimport pandas as pd\\nimport seaborn as sns\\nfrom itertools import product as iterp\\n\\n%load_ext nb_black\\n\\n# this path is for the images\\ndatapath = \\\"C:/Users/micha/OneDrive/Documents/GitHub/Lacuna/sentinel/\\\"\\n\\n# this path is for the training and test csv files\\nDATA_PATH = \\\"C:/Users/micha/OneDrive/Documents/GitHub/Lacuna/\\\"\";\n",
       "                var nbb_cells = Jupyter.notebook.get_cells();\n",
       "                for (var i = 0; i < nbb_cells.length; ++i) {\n",
       "                    if (nbb_cells[i].input_prompt_number == nbb_cell_id) {\n",
       "                        if (nbb_cells[i].get_text() == nbb_unformatted_code) {\n",
       "                             nbb_cells[i].set_text(nbb_formatted_code);\n",
       "                        }\n",
       "                        break;\n",
       "                    }\n",
       "                }\n",
       "            }, 500);\n",
       "            "
      ],
      "text/plain": [
       "<IPython.core.display.Javascript object>"
      ]
     },
     "metadata": {},
     "output_type": "display_data"
    }
   ],
   "source": [
    "import pandas_path\n",
    "from IPython.display import Image\n",
    "from PIL import Image as pil_image\n",
    "\n",
    "import torch\n",
    "from torch.utils.data import Dataset\n",
    "from torchvision import transforms\n",
    "import warnings\n",
    "\n",
    "import pytorch_lightning as pl\n",
    "from torch.utils.data import DataLoader\n",
    "import torchvision.models as models\n",
    "from tqdm import tqdm\n",
    "from torch import nn\n",
    "\n",
    "from pathlib import Path\n",
    "\n",
    "import matplotlib.pyplot as plt\n",
    "import numpy as np\n",
    "import pandas as pd\n",
    "import seaborn as sns\n",
    "from itertools import product as iterp\n",
    "\n",
    "%load_ext nb_black\n",
    "\n",
    "# this path is for the images\n",
    "datapath = \"C:/Users/micha/OneDrive/Documents/GitHub/Lacuna/sentinel/\"\n",
    "\n",
    "# this path is for the training and test csv files\n",
    "DATA_PATH = \"C:/Users/micha/OneDrive/Documents/GitHub/Lacuna/\""
   ]
  },
  {
   "cell_type": "markdown",
   "metadata": {},
   "source": [
    "We probably don't need some of these but there's all the packages. Next we'll parse individual sentinel images into a 120x120x3 RGB image for packing into the right shape for ResNet152, a pretrained image classification network."
   ]
  },
  {
   "cell_type": "code",
   "execution_count": 12,
   "metadata": {},
   "outputs": [
    {
     "data": {
      "application/javascript": [
       "\n",
       "            setTimeout(function() {\n",
       "                var nbb_cell_id = 12;\n",
       "                var nbb_unformatted_code = \"def getSentinelTimeData(path2tif, filterCloudy=True):\\n    \\\"\\\"\\\"\\n    process input Sentinel TIFF file to map its contents into a dictionary\\n    with filter keys and monthly images as values\\n    \\n    note: it won't process images with number of channels other than 192\\n    \\n    when filterCloudy flag is True:\\n    - excludes cloudy images based on cloud-mask (filter#16)\\n    - final dictionary contains 13 real filter data\\n    \\\"\\\"\\\"\\n    \\n    # filter and month IDs\\n    filters = [1,2,3]\\n    months  = [1,2,3,4,5,6,7,8,9]\\n\\n    # read TIFF file into 3D array\\n    img = rdtif(path2tif)\\n    \\n    # if it's one of the images with too few months, just take the months we have and leave the rest blank\\n    if img.shape[-1] != 192: months = [1,2,3,4,5,6]\\n        \\n    # initialize the dict with empty list for each filter, including cropping all images to the minimum size across all data\\n    d = np.array(np.zeros((3,3,3,40,40)))\\n    # this will pack the different channels into different elements of d\\n    for i, j in iterp(months, filters):\\n\\n        channel = ((i) * 16) + j\\n        \\n        tile_x = (i%3)-1\\n        tile_y = int(np.floor(i/3))%3\\n        #print (j, tile_x, tile_y)\\n        d[j-1][tile_y][tile_x] = img[:40, :40, channel]\\n    \\n    # now we are going to tile all the months that we have into a single channel, and separate the different RGB sentinel channels\\n    stacks = {}\\n    \\n    \\n    for filt in filters:\\n        stacks[filt] = np.hstack(np.hstack(d[filt-1]))\\n        \\n    return stacks\";\n",
       "                var nbb_formatted_code = \"def getSentinelTimeData(path2tif, filterCloudy=True):\\n    \\\"\\\"\\\"\\n    process input Sentinel TIFF file to map its contents into a dictionary\\n    with filter keys and monthly images as values\\n\\n    note: it won't process images with number of channels other than 192\\n\\n    when filterCloudy flag is True:\\n    - excludes cloudy images based on cloud-mask (filter#16)\\n    - final dictionary contains 13 real filter data\\n    \\\"\\\"\\\"\\n\\n    # filter and month IDs\\n    filters = [1, 2, 3]\\n    months = [1, 2, 3, 4, 5, 6, 7, 8, 9]\\n\\n    # read TIFF file into 3D array\\n    img = rdtif(path2tif)\\n\\n    # if it's one of the images with too few months, just take the months we have and leave the rest blank\\n    if img.shape[-1] != 192:\\n        months = [1, 2, 3, 4, 5, 6]\\n\\n    # initialize the dict with empty list for each filter, including cropping all images to the minimum size across all data\\n    d = np.array(np.zeros((3, 3, 3, 40, 40)))\\n    # this will pack the different channels into different elements of d\\n    for i, j in iterp(months, filters):\\n\\n        channel = ((i) * 16) + j\\n\\n        tile_x = (i % 3) - 1\\n        tile_y = int(np.floor(i / 3)) % 3\\n        # print (j, tile_x, tile_y)\\n        d[j - 1][tile_y][tile_x] = img[:40, :40, channel]\\n\\n    # now we are going to tile all the months that we have into a single channel, and separate the different RGB sentinel channels\\n    stacks = {}\\n\\n    for filt in filters:\\n        stacks[filt] = np.hstack(np.hstack(d[filt - 1]))\\n\\n    return stacks\";\n",
       "                var nbb_cells = Jupyter.notebook.get_cells();\n",
       "                for (var i = 0; i < nbb_cells.length; ++i) {\n",
       "                    if (nbb_cells[i].input_prompt_number == nbb_cell_id) {\n",
       "                        if (nbb_cells[i].get_text() == nbb_unformatted_code) {\n",
       "                             nbb_cells[i].set_text(nbb_formatted_code);\n",
       "                        }\n",
       "                        break;\n",
       "                    }\n",
       "                }\n",
       "            }, 500);\n",
       "            "
      ],
      "text/plain": [
       "<IPython.core.display.Javascript object>"
      ]
     },
     "metadata": {},
     "output_type": "display_data"
    }
   ],
   "source": [
    "def getSentinelTimeData(path2tif, filterCloudy=True):\n",
    "    \"\"\"\n",
    "    process input Sentinel TIFF file to map its contents into a dictionary\n",
    "    with filter keys and monthly images as values\n",
    "    \n",
    "    note: it won't process images with number of channels other than 192\n",
    "    \n",
    "    when filterCloudy flag is True:\n",
    "    - excludes cloudy images based on cloud-mask (filter#16)\n",
    "    - final dictionary contains 13 real filter data\n",
    "    \"\"\"\n",
    "    \n",
    "    # filter and month IDs\n",
    "    filters = [1,2,3]\n",
    "    months  = [1,2,3,4,5,6,7,8,9]\n",
    "\n",
    "    # read TIFF file into 3D array\n",
    "    img = rdtif(path2tif)\n",
    "    \n",
    "    # if it's one of the images with too few months, just take the months we have and leave the rest blank\n",
    "    if img.shape[-1] != 192: months = [1,2,3,4,5,6]\n",
    "        \n",
    "    # initialize the dict with empty list for each filter, including cropping all images to the minimum size across all data\n",
    "    d = np.array(np.zeros((3,3,3,40,40)))\n",
    "    # this will pack the different channels into different elements of d\n",
    "    for i, j in iterp(months, filters):\n",
    "\n",
    "        channel = ((i) * 16) + j\n",
    "        \n",
    "        tile_x = (i%3)-1\n",
    "        tile_y = int(np.floor(i/3))%3\n",
    "        #print (j, tile_x, tile_y)\n",
    "        d[j-1][tile_y][tile_x] = img[:40, :40, channel]\n",
    "    \n",
    "    # now we are going to tile all the months that we have into a single channel, and separate the different RGB sentinel channels\n",
    "    stacks = {}\n",
    "    \n",
    "    \n",
    "    for filt in filters:\n",
    "        stacks[filt] = np.hstack(np.hstack(d[filt-1]))\n",
    "        \n",
    "    return stacks\n"
   ]
  },
  {
   "cell_type": "markdown",
   "metadata": {},
   "source": [
    "OK let's try this out with a random fieldID. We'll check the shape to make sure things are working at this stage."
   ]
  },
  {
   "cell_type": "code",
   "execution_count": 13,
   "metadata": {},
   "outputs": [
    {
     "data": {
      "text/plain": [
       "(41, 41, 192)"
      ]
     },
     "execution_count": 13,
     "metadata": {},
     "output_type": "execute_result"
    },
    {
     "data": {
      "application/javascript": [
       "\n",
       "            setTimeout(function() {\n",
       "                var nbb_cell_id = 13;\n",
       "                var nbb_unformatted_code = \"\\nfrom skimage.io import imread as rdtif\\n\\nfieldID = 'ff4174be'\\nfname = f'{fieldID}.tif'\\nimg = rdtif(f'{datapath}{fname}')\\n\\nimg.shape\";\n",
       "                var nbb_formatted_code = \"from skimage.io import imread as rdtif\\n\\nfieldID = \\\"ff4174be\\\"\\nfname = f\\\"{fieldID}.tif\\\"\\nimg = rdtif(f\\\"{datapath}{fname}\\\")\\n\\nimg.shape\";\n",
       "                var nbb_cells = Jupyter.notebook.get_cells();\n",
       "                for (var i = 0; i < nbb_cells.length; ++i) {\n",
       "                    if (nbb_cells[i].input_prompt_number == nbb_cell_id) {\n",
       "                        if (nbb_cells[i].get_text() == nbb_unformatted_code) {\n",
       "                             nbb_cells[i].set_text(nbb_formatted_code);\n",
       "                        }\n",
       "                        break;\n",
       "                    }\n",
       "                }\n",
       "            }, 500);\n",
       "            "
      ],
      "text/plain": [
       "<IPython.core.display.Javascript object>"
      ]
     },
     "metadata": {},
     "output_type": "display_data"
    }
   ],
   "source": [
    "\n",
    "from skimage.io import imread as rdtif\n",
    "\n",
    "fieldID = 'ff4174be'\n",
    "fname = f'{fieldID}.tif'\n",
    "img = rdtif(f'{datapath}{fname}')\n",
    "\n",
    "img.shape\n",
    "\n"
   ]
  },
  {
   "cell_type": "markdown",
   "metadata": {},
   "source": [
    "Next, lets plot the tiled images we have so far using the function we wrote above. Note that the images are not normalized in the image parsing function because we are going to have to normalize them later in the pipeline anyways."
   ]
  },
  {
   "cell_type": "code",
   "execution_count": 14,
   "metadata": {},
   "outputs": [
    {
     "data": {
      "image/png": "[encoded data removed]",
      "text/plain": [
       "<Figure size 1152x1152 with 3 Axes>"
      ]
     },
     "metadata": {
      "needs_background": "light"
     },
     "output_type": "display_data"
    },
    {
     "data": {
      "application/javascript": [
       "\n",
       "            setTimeout(function() {\n",
       "                var nbb_cell_id = 14;\n",
       "                var nbb_unformatted_code = \"filters = [1, 2, 3]\\ncmap = plt.cm.gray\\n\\nd = getSentinelTimeData(f\\\"{datapath}{fname}\\\")\\n\\nfig, ax = plt.subplots(nrows=3, ncols=1, figsize=(16, 16), sharex=True, sharey=True)\\n\\n\\nfor i in filters:\\n    if d[i] is not None:\\n        ax[i - 1].imshow(d[i], cmap=cmap)\\n    ax[i - 1].set_title(f\\\"filter = {i+1}\\\")\\n\\nplt.show()\";\n",
       "                var nbb_formatted_code = \"filters = [1, 2, 3]\\ncmap = plt.cm.gray\\n\\nd = getSentinelTimeData(f\\\"{datapath}{fname}\\\")\\n\\nfig, ax = plt.subplots(nrows=3, ncols=1, figsize=(16, 16), sharex=True, sharey=True)\\n\\n\\nfor i in filters:\\n    if d[i] is not None:\\n        ax[i - 1].imshow(d[i], cmap=cmap)\\n    ax[i - 1].set_title(f\\\"filter = {i+1}\\\")\\n\\nplt.show()\";\n",
       "                var nbb_cells = Jupyter.notebook.get_cells();\n",
       "                for (var i = 0; i < nbb_cells.length; ++i) {\n",
       "                    if (nbb_cells[i].input_prompt_number == nbb_cell_id) {\n",
       "                        if (nbb_cells[i].get_text() == nbb_unformatted_code) {\n",
       "                             nbb_cells[i].set_text(nbb_formatted_code);\n",
       "                        }\n",
       "                        break;\n",
       "                    }\n",
       "                }\n",
       "            }, 500);\n",
       "            "
      ],
      "text/plain": [
       "<IPython.core.display.Javascript object>"
      ]
     },
     "metadata": {},
     "output_type": "display_data"
    }
   ],
   "source": [
    "filters = [1, 2, 3]\n",
    "cmap = plt.cm.gray\n",
    "\n",
    "d = getSentinelTimeData(f\"{datapath}{fname}\")\n",
    "\n",
    "fig, ax = plt.subplots(nrows=3, ncols=1, figsize=(16, 16), sharex=True, sharey=True)\n",
    "\n",
    "\n",
    "for i in filters:\n",
    "    if d[i] is not None:\n",
    "        ax[i - 1].imshow(d[i], cmap=cmap)\n",
    "    ax[i - 1].set_title(f\"filter = {i+1}\")\n",
    "\n",
    "plt.show()"
   ]
  },
  {
   "cell_type": "markdown",
   "metadata": {},
   "source": [
    "Here we test out the planned RGB merge with pil_image.merge and check out our \"color\" image"
   ]
  },
  {
   "cell_type": "code",
   "execution_count": 15,
   "metadata": {},
   "outputs": [
    {
     "data": {
      "image/png": "[encoded data removed]",
      "text/plain": [
       "<PIL.Image.Image image mode=RGB size=120x120 at 0x1FD5342A730>"
      ]
     },
     "execution_count": 15,
     "metadata": {},
     "output_type": "execute_result"
    },
    {
     "data": {
      "application/javascript": [
       "\n",
       "            setTimeout(function() {\n",
       "                var nbb_cell_id = 15;\n",
       "                var nbb_unformatted_code = \"# print(d[1] / np.amax(d[1]) * 256)\\nimage_R = pil_image.fromarray(d[1] / np.amax(d[1]) * 256).convert(\\\"L\\\")\\nimage_G = pil_image.fromarray(d[2] / np.amax(d[2]) * 256).convert(\\\"L\\\")\\nimage_B = pil_image.fromarray(d[3] / np.amax(d[3]) * 256).convert(\\\"L\\\")\\n\\n# print(image_R.mode)\\npil_image.merge(\\\"RGB\\\", (image_R, image_G, image_B))\";\n",
       "                var nbb_formatted_code = \"# print(d[1] / np.amax(d[1]) * 256)\\nimage_R = pil_image.fromarray(d[1] / np.amax(d[1]) * 256).convert(\\\"L\\\")\\nimage_G = pil_image.fromarray(d[2] / np.amax(d[2]) * 256).convert(\\\"L\\\")\\nimage_B = pil_image.fromarray(d[3] / np.amax(d[3]) * 256).convert(\\\"L\\\")\\n\\n# print(image_R.mode)\\npil_image.merge(\\\"RGB\\\", (image_R, image_G, image_B))\";\n",
       "                var nbb_cells = Jupyter.notebook.get_cells();\n",
       "                for (var i = 0; i < nbb_cells.length; ++i) {\n",
       "                    if (nbb_cells[i].input_prompt_number == nbb_cell_id) {\n",
       "                        if (nbb_cells[i].get_text() == nbb_unformatted_code) {\n",
       "                             nbb_cells[i].set_text(nbb_formatted_code);\n",
       "                        }\n",
       "                        break;\n",
       "                    }\n",
       "                }\n",
       "            }, 500);\n",
       "            "
      ],
      "text/plain": [
       "<IPython.core.display.Javascript object>"
      ]
     },
     "metadata": {},
     "output_type": "display_data"
    }
   ],
   "source": [
    "# print(d[1] / np.amax(d[1]) * 256)\n",
    "image_R = pil_image.fromarray(d[1] / np.amax(d[1]) * 256).convert(\"L\")\n",
    "image_G = pil_image.fromarray(d[2] / np.amax(d[2]) * 256).convert(\"L\")\n",
    "image_B = pil_image.fromarray(d[3] / np.amax(d[3]) * 256).convert(\"L\")\n",
    "\n",
    "# print(image_R.mode)\n",
    "pil_image.merge(\"RGB\", (image_R, image_G, image_B))"
   ]
  },
  {
   "cell_type": "markdown",
   "metadata": {},
   "source": [
    "Now lets start importing our training data to take a look at what's inside. We'll only use the ID, x, and y columns."
   ]
  },
  {
   "cell_type": "code",
   "execution_count": 16,
   "metadata": {},
   "outputs": [
    {
     "data": {
      "text/html": [
       "<div>\n",
       "<style scoped>\n",
       "    .dataframe tbody tr th:only-of-type {\n",
       "        vertical-align: middle;\n",
       "    }\n",
       "\n",
       "    .dataframe tbody tr th {\n",
       "        vertical-align: top;\n",
       "    }\n",
       "\n",
       "    .dataframe thead th {\n",
       "        text-align: right;\n",
       "    }\n",
       "</style>\n",
       "<table border=\"1\" class=\"dataframe\">\n",
       "  <thead>\n",
       "    <tr style=\"text-align: right;\">\n",
       "      <th></th>\n",
       "      <th>ID</th>\n",
       "      <th>Year</th>\n",
       "      <th>PlotSize_acres</th>\n",
       "      <th>Yield</th>\n",
       "      <th>Quality</th>\n",
       "      <th>x</th>\n",
       "      <th>y</th>\n",
       "    </tr>\n",
       "  </thead>\n",
       "  <tbody>\n",
       "    <tr>\n",
       "      <th>0</th>\n",
       "      <td>id_ade6610c</td>\n",
       "      <td>2018</td>\n",
       "      <td>0.25</td>\n",
       "      <td>NaN</td>\n",
       "      <td>2</td>\n",
       "      <td>-0.100546</td>\n",
       "      <td>0.131002</td>\n",
       "    </tr>\n",
       "    <tr>\n",
       "      <th>1</th>\n",
       "      <td>id_c987f14e</td>\n",
       "      <td>2018</td>\n",
       "      <td>2.00</td>\n",
       "      <td>NaN</td>\n",
       "      <td>1</td>\n",
       "      <td>-0.985732</td>\n",
       "      <td>-0.032197</td>\n",
       "    </tr>\n",
       "    <tr>\n",
       "      <th>2</th>\n",
       "      <td>id_92e2cdbf</td>\n",
       "      <td>2016</td>\n",
       "      <td>1.00</td>\n",
       "      <td>0.37125</td>\n",
       "      <td>1</td>\n",
       "      <td>-1.335971</td>\n",
       "      <td>-1.069998</td>\n",
       "    </tr>\n",
       "    <tr>\n",
       "      <th>3</th>\n",
       "      <td>id_a1ce519e</td>\n",
       "      <td>2017</td>\n",
       "      <td>1.50</td>\n",
       "      <td>0.26875</td>\n",
       "      <td>3</td>\n",
       "      <td>0.000000</td>\n",
       "      <td>0.000000</td>\n",
       "    </tr>\n",
       "    <tr>\n",
       "      <th>4</th>\n",
       "      <td>id_fe53ff60</td>\n",
       "      <td>2018</td>\n",
       "      <td>0.25</td>\n",
       "      <td>NaN</td>\n",
       "      <td>1</td>\n",
       "      <td>0.173911</td>\n",
       "      <td>0.273041</td>\n",
       "    </tr>\n",
       "  </tbody>\n",
       "</table>\n",
       "</div>"
      ],
      "text/plain": [
       "            ID  Year  PlotSize_acres    Yield  Quality         x         y\n",
       "0  id_ade6610c  2018            0.25      NaN        2 -0.100546  0.131002\n",
       "1  id_c987f14e  2018            2.00      NaN        1 -0.985732 -0.032197\n",
       "2  id_92e2cdbf  2016            1.00  0.37125        1 -1.335971 -1.069998\n",
       "3  id_a1ce519e  2017            1.50  0.26875        3  0.000000  0.000000\n",
       "4  id_fe53ff60  2018            0.25      NaN        1  0.173911  0.273041"
      ]
     },
     "execution_count": 16,
     "metadata": {},
     "output_type": "execute_result"
    },
    {
     "data": {
      "application/javascript": [
       "\n",
       "            setTimeout(function() {\n",
       "                var nbb_cell_id = 16;\n",
       "                var nbb_unformatted_code = \"\\ntrain_metadata = pd.read_csv(DATA_PATH + \\\"train-unique.csv\\\")\\ntrain_metadata.head()\";\n",
       "                var nbb_formatted_code = \"train_metadata = pd.read_csv(DATA_PATH + \\\"train-unique.csv\\\")\\ntrain_metadata.head()\";\n",
       "                var nbb_cells = Jupyter.notebook.get_cells();\n",
       "                for (var i = 0; i < nbb_cells.length; ++i) {\n",
       "                    if (nbb_cells[i].input_prompt_number == nbb_cell_id) {\n",
       "                        if (nbb_cells[i].get_text() == nbb_unformatted_code) {\n",
       "                             nbb_cells[i].set_text(nbb_formatted_code);\n",
       "                        }\n",
       "                        break;\n",
       "                    }\n",
       "                }\n",
       "            }, 500);\n",
       "            "
      ],
      "text/plain": [
       "<IPython.core.display.Javascript object>"
      ]
     },
     "metadata": {},
     "output_type": "display_data"
    }
   ],
   "source": [
    "\n",
    "train_metadata = pd.read_csv(DATA_PATH + \"train-unique.csv\")\n",
    "train_metadata.head()\n"
   ]
  },
  {
   "cell_type": "markdown",
   "metadata": {},
   "source": [
    "We then separate the training data into data and labels, adding a column with the full filename for easy retrieval during training."
   ]
  },
  {
   "cell_type": "code",
   "execution_count": 17,
   "metadata": {},
   "outputs": [
    {
     "data": {
      "text/html": [
       "<div>\n",
       "<style scoped>\n",
       "    .dataframe tbody tr th:only-of-type {\n",
       "        vertical-align: middle;\n",
       "    }\n",
       "\n",
       "    .dataframe tbody tr th {\n",
       "        vertical-align: top;\n",
       "    }\n",
       "\n",
       "    .dataframe thead th {\n",
       "        text-align: right;\n",
       "    }\n",
       "</style>\n",
       "<table border=\"1\" class=\"dataframe\">\n",
       "  <thead>\n",
       "    <tr style=\"text-align: right;\">\n",
       "      <th></th>\n",
       "      <th>ID</th>\n",
       "      <th>x</th>\n",
       "      <th>y</th>\n",
       "    </tr>\n",
       "  </thead>\n",
       "  <tbody>\n",
       "    <tr>\n",
       "      <th>0</th>\n",
       "      <td>id_ade6610c</td>\n",
       "      <td>-0.100546</td>\n",
       "      <td>0.131002</td>\n",
       "    </tr>\n",
       "    <tr>\n",
       "      <th>1</th>\n",
       "      <td>id_c987f14e</td>\n",
       "      <td>-0.985732</td>\n",
       "      <td>-0.032197</td>\n",
       "    </tr>\n",
       "    <tr>\n",
       "      <th>2</th>\n",
       "      <td>id_92e2cdbf</td>\n",
       "      <td>-1.335971</td>\n",
       "      <td>-1.069998</td>\n",
       "    </tr>\n",
       "    <tr>\n",
       "      <th>3</th>\n",
       "      <td>id_a1ce519e</td>\n",
       "      <td>0.000000</td>\n",
       "      <td>0.000000</td>\n",
       "    </tr>\n",
       "    <tr>\n",
       "      <th>4</th>\n",
       "      <td>id_fe53ff60</td>\n",
       "      <td>0.173911</td>\n",
       "      <td>0.273041</td>\n",
       "    </tr>\n",
       "  </tbody>\n",
       "</table>\n",
       "</div>"
      ],
      "text/plain": [
       "            ID         x         y\n",
       "0  id_ade6610c -0.100546  0.131002\n",
       "1  id_c987f14e -0.985732 -0.032197\n",
       "2  id_92e2cdbf -1.335971 -1.069998\n",
       "3  id_a1ce519e  0.000000  0.000000\n",
       "4  id_fe53ff60  0.173911  0.273041"
      ]
     },
     "execution_count": 17,
     "metadata": {},
     "output_type": "execute_result"
    },
    {
     "data": {
      "application/javascript": [
       "\n",
       "            setTimeout(function() {\n",
       "                var nbb_cell_id = 17;\n",
       "                var nbb_unformatted_code = \"train_labels = train_metadata[[\\\"ID\\\", \\\"x\\\", \\\"y\\\"]].copy()\\ntrain_labels.head()\";\n",
       "                var nbb_formatted_code = \"train_labels = train_metadata[[\\\"ID\\\", \\\"x\\\", \\\"y\\\"]].copy()\\ntrain_labels.head()\";\n",
       "                var nbb_cells = Jupyter.notebook.get_cells();\n",
       "                for (var i = 0; i < nbb_cells.length; ++i) {\n",
       "                    if (nbb_cells[i].input_prompt_number == nbb_cell_id) {\n",
       "                        if (nbb_cells[i].get_text() == nbb_unformatted_code) {\n",
       "                             nbb_cells[i].set_text(nbb_formatted_code);\n",
       "                        }\n",
       "                        break;\n",
       "                    }\n",
       "                }\n",
       "            }, 500);\n",
       "            "
      ],
      "text/plain": [
       "<IPython.core.display.Javascript object>"
      ]
     },
     "metadata": {},
     "output_type": "display_data"
    }
   ],
   "source": [
    "train_labels = train_metadata[[\"ID\", \"x\", \"y\"]].copy()\n",
    "train_labels.head()"
   ]
  },
  {
   "cell_type": "code",
   "execution_count": 18,
   "metadata": {},
   "outputs": [
    {
     "data": {
      "text/html": [
       "<div>\n",
       "<style scoped>\n",
       "    .dataframe tbody tr th:only-of-type {\n",
       "        vertical-align: middle;\n",
       "    }\n",
       "\n",
       "    .dataframe tbody tr th {\n",
       "        vertical-align: top;\n",
       "    }\n",
       "\n",
       "    .dataframe thead th {\n",
       "        text-align: right;\n",
       "    }\n",
       "</style>\n",
       "<table border=\"1\" class=\"dataframe\">\n",
       "  <thead>\n",
       "    <tr style=\"text-align: right;\">\n",
       "      <th></th>\n",
       "      <th>ID</th>\n",
       "      <th>Year</th>\n",
       "      <th>PlotSize_acres</th>\n",
       "      <th>Yield</th>\n",
       "      <th>Quality</th>\n",
       "      <th>file_name</th>\n",
       "    </tr>\n",
       "  </thead>\n",
       "  <tbody>\n",
       "    <tr>\n",
       "      <th>0</th>\n",
       "      <td>id_ade6610c</td>\n",
       "      <td>2018</td>\n",
       "      <td>0.25</td>\n",
       "      <td>NaN</td>\n",
       "      <td>2</td>\n",
       "      <td>C:/Users/micha/OneDrive/Documents/GitHub/Lacun...</td>\n",
       "    </tr>\n",
       "    <tr>\n",
       "      <th>1</th>\n",
       "      <td>id_c987f14e</td>\n",
       "      <td>2018</td>\n",
       "      <td>2.00</td>\n",
       "      <td>NaN</td>\n",
       "      <td>1</td>\n",
       "      <td>C:/Users/micha/OneDrive/Documents/GitHub/Lacun...</td>\n",
       "    </tr>\n",
       "    <tr>\n",
       "      <th>2</th>\n",
       "      <td>id_92e2cdbf</td>\n",
       "      <td>2016</td>\n",
       "      <td>1.00</td>\n",
       "      <td>0.37125</td>\n",
       "      <td>1</td>\n",
       "      <td>C:/Users/micha/OneDrive/Documents/GitHub/Lacun...</td>\n",
       "    </tr>\n",
       "    <tr>\n",
       "      <th>3</th>\n",
       "      <td>id_a1ce519e</td>\n",
       "      <td>2017</td>\n",
       "      <td>1.50</td>\n",
       "      <td>0.26875</td>\n",
       "      <td>3</td>\n",
       "      <td>C:/Users/micha/OneDrive/Documents/GitHub/Lacun...</td>\n",
       "    </tr>\n",
       "    <tr>\n",
       "      <th>4</th>\n",
       "      <td>id_fe53ff60</td>\n",
       "      <td>2018</td>\n",
       "      <td>0.25</td>\n",
       "      <td>NaN</td>\n",
       "      <td>1</td>\n",
       "      <td>C:/Users/micha/OneDrive/Documents/GitHub/Lacun...</td>\n",
       "    </tr>\n",
       "  </tbody>\n",
       "</table>\n",
       "</div>"
      ],
      "text/plain": [
       "            ID  Year  PlotSize_acres    Yield  Quality  \\\n",
       "0  id_ade6610c  2018            0.25      NaN        2   \n",
       "1  id_c987f14e  2018            2.00      NaN        1   \n",
       "2  id_92e2cdbf  2016            1.00  0.37125        1   \n",
       "3  id_a1ce519e  2017            1.50  0.26875        3   \n",
       "4  id_fe53ff60  2018            0.25      NaN        1   \n",
       "\n",
       "                                           file_name  \n",
       "0  C:/Users/micha/OneDrive/Documents/GitHub/Lacun...  \n",
       "1  C:/Users/micha/OneDrive/Documents/GitHub/Lacun...  \n",
       "2  C:/Users/micha/OneDrive/Documents/GitHub/Lacun...  \n",
       "3  C:/Users/micha/OneDrive/Documents/GitHub/Lacun...  \n",
       "4  C:/Users/micha/OneDrive/Documents/GitHub/Lacun...  "
      ]
     },
     "execution_count": 18,
     "metadata": {},
     "output_type": "execute_result"
    },
    {
     "data": {
      "application/javascript": [
       "\n",
       "            setTimeout(function() {\n",
       "                var nbb_cell_id = 18;\n",
       "                var nbb_unformatted_code = \"train_data = train_metadata.drop(columns=[\\\"x\\\", \\\"y\\\"])\\nfile_num = train_data[\\\"ID\\\"]\\ntrain_data[\\\"file_name\\\"] = [\\n    DATA_PATH + \\\"sentinel/\\\" + x[3:] + \\\".tif\\\" for x in train_data[\\\"ID\\\"]\\n]\\ntrain_data.head()\";\n",
       "                var nbb_formatted_code = \"train_data = train_metadata.drop(columns=[\\\"x\\\", \\\"y\\\"])\\nfile_num = train_data[\\\"ID\\\"]\\ntrain_data[\\\"file_name\\\"] = [\\n    DATA_PATH + \\\"sentinel/\\\" + x[3:] + \\\".tif\\\" for x in train_data[\\\"ID\\\"]\\n]\\ntrain_data.head()\";\n",
       "                var nbb_cells = Jupyter.notebook.get_cells();\n",
       "                for (var i = 0; i < nbb_cells.length; ++i) {\n",
       "                    if (nbb_cells[i].input_prompt_number == nbb_cell_id) {\n",
       "                        if (nbb_cells[i].get_text() == nbb_unformatted_code) {\n",
       "                             nbb_cells[i].set_text(nbb_formatted_code);\n",
       "                        }\n",
       "                        break;\n",
       "                    }\n",
       "                }\n",
       "            }, 500);\n",
       "            "
      ],
      "text/plain": [
       "<IPython.core.display.Javascript object>"
      ]
     },
     "metadata": {},
     "output_type": "display_data"
    }
   ],
   "source": [
    "train_data = train_metadata.drop(columns=[\"x\", \"y\"])\n",
    "file_num = train_data[\"ID\"]\n",
    "train_data[\"file_name\"] = [\n",
    "    DATA_PATH + \"sentinel/\" + x[3:] + \".tif\" for x in train_data[\"ID\"]\n",
    "]\n",
    "train_data.head()"
   ]
  },
  {
   "cell_type": "markdown",
   "metadata": {},
   "source": [
    "Now we get into the meat of the code. This is a PyTorch Lightning Dataset with some specific modifications:\n",
    "\n",
    "1) During the transformation step, we will apply a random gaussian blur to augment the dataset and reduce overfitting. The other steps in the transform are necessary for optimal ResNet152 pretrained models.\n",
    "\n",
    "2) __getitem__ contains the processing we need to load up the image like we tested out before.\n"
   ]
  },
  {
   "cell_type": "code",
   "execution_count": 19,
   "metadata": {},
   "outputs": [
    {
     "data": {
      "application/javascript": [
       "\n",
       "            setTimeout(function() {\n",
       "                var nbb_cell_id = 19;\n",
       "                var nbb_unformatted_code = \"class DatasetSentinel(Dataset):\\n    \\\"\\\"\\\"Reads in an image, transforms pixel values, and serves\\n    a dictionary containing the image id, image tensors, and label.\\n    \\\"\\\"\\\"\\n\\n    def __init__(self, x_train, y_train=None):\\n        self.data = x_train\\n        self.label = y_train\\n        self.transform = transforms.Compose(\\n            [\\n                transforms.Resize((128, 128)),\\n                transforms.ToTensor(),\\n                # All models expect the same normalization mean & std\\n                # https://pytorch.org/docs/stable/torchvision/models.html\\n                transforms.Normalize(\\n                    mean=(0.485, 0.456, 0.406), std=(0.229, 0.224, 0.225)\\n                ),\\n                transforms.GaussianBlur(5, sigma=(0.1, 2.0)),\\n            ]\\n        )\\n\\n    def __len__(self):\\n        return len(self.data)\\n\\n    def __getitem__(self, index):\\n\\n        d = getSentinelTimeData(self.data.iloc[index][\\\"file_name\\\"])\\n\\n        image_R = pil_image.fromarray(d[1] / np.amax(d[1]) * 256).convert(\\\"L\\\")\\n        image_G = pil_image.fromarray(d[2] / np.amax(d[2]) * 256).convert(\\\"L\\\")\\n        image_B = pil_image.fromarray(d[3] / np.amax(d[3]) * 256).convert(\\\"L\\\")\\n        image = pil_image.merge(\\\"RGB\\\", (image_R, image_G, image_B))\\n        image = self.transform(image)\\n        image_id = self.data.iloc[index][\\\"ID\\\"]\\n        if self.label is not None:\\n            label_x = self.label.iloc[index][\\\"x\\\"]\\n            label_y = self.label.iloc[index][\\\"y\\\"]\\n            sample = {\\n                \\\"image_id\\\": image_id,\\n                \\\"image\\\": image,\\n                \\\"label\\\": np.array([label_x, label_y]),\\n            }\\n        else:\\n            sample = {\\\"image_id\\\": image_id, \\\"image\\\": image}\\n        return sample\";\n",
       "                var nbb_formatted_code = \"class DatasetSentinel(Dataset):\\n    \\\"\\\"\\\"Reads in an image, transforms pixel values, and serves\\n    a dictionary containing the image id, image tensors, and label.\\n    \\\"\\\"\\\"\\n\\n    def __init__(self, x_train, y_train=None):\\n        self.data = x_train\\n        self.label = y_train\\n        self.transform = transforms.Compose(\\n            [\\n                transforms.Resize((128, 128)),\\n                transforms.ToTensor(),\\n                # All models expect the same normalization mean & std\\n                # https://pytorch.org/docs/stable/torchvision/models.html\\n                transforms.Normalize(\\n                    mean=(0.485, 0.456, 0.406), std=(0.229, 0.224, 0.225)\\n                ),\\n                transforms.GaussianBlur(5, sigma=(0.1, 2.0)),\\n            ]\\n        )\\n\\n    def __len__(self):\\n        return len(self.data)\\n\\n    def __getitem__(self, index):\\n\\n        d = getSentinelTimeData(self.data.iloc[index][\\\"file_name\\\"])\\n\\n        image_R = pil_image.fromarray(d[1] / np.amax(d[1]) * 256).convert(\\\"L\\\")\\n        image_G = pil_image.fromarray(d[2] / np.amax(d[2]) * 256).convert(\\\"L\\\")\\n        image_B = pil_image.fromarray(d[3] / np.amax(d[3]) * 256).convert(\\\"L\\\")\\n        image = pil_image.merge(\\\"RGB\\\", (image_R, image_G, image_B))\\n        image = self.transform(image)\\n        image_id = self.data.iloc[index][\\\"ID\\\"]\\n        if self.label is not None:\\n            label_x = self.label.iloc[index][\\\"x\\\"]\\n            label_y = self.label.iloc[index][\\\"y\\\"]\\n            sample = {\\n                \\\"image_id\\\": image_id,\\n                \\\"image\\\": image,\\n                \\\"label\\\": np.array([label_x, label_y]),\\n            }\\n        else:\\n            sample = {\\\"image_id\\\": image_id, \\\"image\\\": image}\\n        return sample\";\n",
       "                var nbb_cells = Jupyter.notebook.get_cells();\n",
       "                for (var i = 0; i < nbb_cells.length; ++i) {\n",
       "                    if (nbb_cells[i].input_prompt_number == nbb_cell_id) {\n",
       "                        if (nbb_cells[i].get_text() == nbb_unformatted_code) {\n",
       "                             nbb_cells[i].set_text(nbb_formatted_code);\n",
       "                        }\n",
       "                        break;\n",
       "                    }\n",
       "                }\n",
       "            }, 500);\n",
       "            "
      ],
      "text/plain": [
       "<IPython.core.display.Javascript object>"
      ]
     },
     "metadata": {},
     "output_type": "display_data"
    }
   ],
   "source": [
    "class DatasetSentinel(Dataset):\n",
    "    \"\"\"Reads in an image, transforms pixel values, and serves\n",
    "    a dictionary containing the image id, image tensors, and label.\n",
    "    \"\"\"\n",
    "\n",
    "    def __init__(self, x_train, y_train=None):\n",
    "        self.data = x_train\n",
    "        self.label = y_train\n",
    "        self.transform = transforms.Compose(\n",
    "            [\n",
    "                transforms.Resize((128, 128)),\n",
    "                transforms.ToTensor(),\n",
    "                # All models expect the same normalization mean & std\n",
    "                # https://pytorch.org/docs/stable/torchvision/models.html\n",
    "                transforms.Normalize(\n",
    "                    mean=(0.485, 0.456, 0.406), std=(0.229, 0.224, 0.225)\n",
    "                ),\n",
    "                transforms.GaussianBlur(5, sigma=(0.1, 2.0)),\n",
    "            ]\n",
    "        )\n",
    "\n",
    "    def __len__(self):\n",
    "        return len(self.data)\n",
    "\n",
    "    def __getitem__(self, index):\n",
    "\n",
    "        d = getSentinelTimeData(self.data.iloc[index][\"file_name\"])\n",
    "\n",
    "        image_R = pil_image.fromarray(d[1] / np.amax(d[1]) * 256).convert(\"L\")\n",
    "        image_G = pil_image.fromarray(d[2] / np.amax(d[2]) * 256).convert(\"L\")\n",
    "        image_B = pil_image.fromarray(d[3] / np.amax(d[3]) * 256).convert(\"L\")\n",
    "        image = pil_image.merge(\"RGB\", (image_R, image_G, image_B))\n",
    "        image = self.transform(image)\n",
    "        image_id = self.data.iloc[index][\"ID\"]\n",
    "        if self.label is not None:\n",
    "            label_x = self.label.iloc[index][\"x\"]\n",
    "            label_y = self.label.iloc[index][\"y\"]\n",
    "            sample = {\n",
    "                \"image_id\": image_id,\n",
    "                \"image\": image,\n",
    "                \"label\": np.array([label_x, label_y]),\n",
    "            }\n",
    "        else:\n",
    "            sample = {\"image_id\": image_id, \"image\": image}\n",
    "        return sample"
   ]
  },
  {
   "cell_type": "markdown",
   "metadata": {},
   "source": [
    "The competition rules state we should use L1Loss so that's our loss module; boilerplate."
   ]
  },
  {
   "cell_type": "code",
   "execution_count": 20,
   "metadata": {},
   "outputs": [
    {
     "data": {
      "application/javascript": [
       "\n",
       "            setTimeout(function() {\n",
       "                var nbb_cell_id = 20;\n",
       "                var nbb_unformatted_code = \"class L1Loss(nn.Module):\\n    \\\"\\\"\\\"Measures absolute mean error.\\\"\\\"\\\"\\n\\n    def __init__(self):\\n        super(L1Loss, self).__init__()\\n        self.L1 = nn.L1Loss()\\n\\n    def forward(self, pred, true):\\n        return self.L1(pred, true)\";\n",
       "                var nbb_formatted_code = \"class L1Loss(nn.Module):\\n    \\\"\\\"\\\"Measures absolute mean error.\\\"\\\"\\\"\\n\\n    def __init__(self):\\n        super(L1Loss, self).__init__()\\n        self.L1 = nn.L1Loss()\\n\\n    def forward(self, pred, true):\\n        return self.L1(pred, true)\";\n",
       "                var nbb_cells = Jupyter.notebook.get_cells();\n",
       "                for (var i = 0; i < nbb_cells.length; ++i) {\n",
       "                    if (nbb_cells[i].input_prompt_number == nbb_cell_id) {\n",
       "                        if (nbb_cells[i].get_text() == nbb_unformatted_code) {\n",
       "                             nbb_cells[i].set_text(nbb_formatted_code);\n",
       "                        }\n",
       "                        break;\n",
       "                    }\n",
       "                }\n",
       "            }, 500);\n",
       "            "
      ],
      "text/plain": [
       "<IPython.core.display.Javascript object>"
      ]
     },
     "metadata": {},
     "output_type": "display_data"
    }
   ],
   "source": [
    "class L1Loss(nn.Module):\n",
    "    \"\"\"Measures absolute mean error.\"\"\"\n",
    "\n",
    "    def __init__(self):\n",
    "        super(L1Loss, self).__init__()\n",
    "        self.L1 = nn.L1Loss()\n",
    "\n",
    "    def forward(self, pred, true):\n",
    "        return self.L1(pred, true)"
   ]
  },
  {
   "cell_type": "markdown",
   "metadata": {},
   "source": [
    "Here is the LightningModule for the model itself. We organize the hyperparameter inputs using the hparams object, set up logging, and define our datasets upon initialization.\n",
    "\n",
    "Then we load the pretrained model in prepare model, changing the last layer (.fc) to remove softmax, this allows us to predict floating point values. The rest of the functions are standard and documented in the official PyTorch Lightning documentation.\n",
    "\n",
    "The function make_submission_frame will generate the output file for our final prediction on the test set."
   ]
  },
  {
   "cell_type": "code",
   "execution_count": 48,
   "metadata": {},
   "outputs": [
    {
     "data": {
      "application/javascript": [
       "\n",
       "            setTimeout(function() {\n",
       "                var nbb_cell_id = 48;\n",
       "                var nbb_unformatted_code = \"class PretrainedSentinelModel(pl.LightningModule):\\n    def __init__(self, hparams):\\n        super(PretrainedSentinelModel, self).__init__()\\n        self.hparams = hparams\\n\\n        # hyperparameters for training the model with their default values as second argument\\n        self.learning_rate = self.hparams.get(\\\"lr\\\", 2e-4)\\n        self.hidden_size = self.hparams.get(\\\"embedding_dim\\\", 50)\\n        self.dropout = self.hparams.get(\\\"dropout\\\", 0.1)\\n        self.max_epochs = self.hparams.get(\\\"max_epochs\\\", 1)\\n        self.num_workers = self.hparams.get(\\\"num_workers\\\", 0)\\n        self.batch_size = self.hparams.get(\\\"batch_size\\\", 10)\\n\\n        # our datasets\\n        self.x_train = self.hparams.get(\\\"x_train\\\")\\n        self.y_train = self.hparams.get(\\\"y_train\\\")\\n        self.x_val = self.hparams.get(\\\"x_val\\\")\\n        self.y_val = self.hparams.get(\\\"y_val\\\")\\n\\n        self.num_outputs = 2  # two predictions for field displacement\\n\\n        # Where final model will be saved\\n        self.output_path = Path.cwd() / self.hparams.get(\\\"output_path\\\", \\\"model-outputs\\\")\\n        self.output_path.mkdir(exist_ok=True)\\n\\n        # Where TensorBoard logs will be saved\\n        self.log_path = Path.cwd() / self.hparams.get(\\\"log_path\\\", \\\"logs\\\")\\n        self.log_path.mkdir(exist_ok=True)\\n        self.logger = pl.loggers.TensorBoardLogger(\\n            self.log_path, name=\\\"benchmark_model\\\"\\n        )\\n\\n        # Instantiate training and validation datasets\\n        self.train_dataset = DatasetSentinel(self.x_train, self.y_train)\\n        self.val_dataset = DatasetSentinel(self.x_val, self.y_val)\\n        self.model = self.prepare_model()\\n\\n    def prepare_model(self):\\n        res_model = models.resnet152(pretrained=True)\\n        # Input size of 2048 for resnet152\\n        # https://pytorch.org/hub/pytorch_vision_resnet/\\n        res_model.fc = nn.Sequential(\\n            nn.Linear(2048, self.hidden_size),\\n            nn.ReLU(inplace=True),\\n            nn.Linear(self.hidden_size, self.num_outputs),\\n        )\\n\\n        return res_model\\n\\n    def forward(self, image):\\n        return self.model(image)\\n\\n    def training_step(self, batch, batch_idx):\\n        x = batch[\\\"image\\\"]\\n        y = batch[\\\"label\\\"]\\n        criterion = L1Loss()\\n        # Switch to training mode\\n        loss = criterion(\\n            self.model.train().forward(x).squeeze(), y.type(torch.FloatTensor).cuda()\\n        )\\n        tensorboard_logs = {\\\"train_loss\\\": loss}\\n        self.log(\\\"train_loss\\\", loss, on_step=True, on_epoch=True, prog_bar=True)\\n        return {\\\"loss\\\": loss}\\n\\n    def validation_step(self, batch, batch_idx):\\n        x = batch[\\\"image\\\"]\\n        y = batch[\\\"label\\\"]\\n\\n        criterion = L1Loss()\\n        # Switch to evaluation mode\\n        loss = criterion(\\n            self.model.eval().forward(x).squeeze(), y.type(torch.FloatTensor).cuda()\\n        )\\n        tensorboard_logs = {\\\"val_loss\\\": loss}\\n        self.log(\\\"val_loss\\\", loss, on_step=True, on_epoch=True, prog_bar=True)\\n        return {\\\"batch_val_loss\\\": loss}\\n\\n    def train_dataloader(self):\\n        return DataLoader(\\n            self.train_dataset, num_workers=self.num_workers, batch_size=self.batch_size\\n        )\\n\\n    def val_dataloader(self):\\n        return DataLoader(\\n            self.val_dataset, num_workers=self.num_workers, batch_size=self.batch_size\\n        )\\n\\n    def configure_optimizers(self):\\n        return torch.optim.AdamW(self.model.parameters(), lr=self.learning_rate)\\n\\n    ## Convenience Methods ##\\n\\n    def fit(self):\\n        self.trainer = pl.Trainer(\\n            max_epochs=self.max_epochs,\\n            default_root_dir=self.output_path,\\n            logger=self.logger,\\n            checkpoint_callback=pl.callbacks.ModelCheckpoint(\\n                filepath=self.output_path,\\n                monitor=\\\"val_loss_epoch\\\",\\n                mode=\\\"min\\\",\\n                verbose=True,\\n            ),\\n            gradient_clip_val=self.hparams.get(\\\"gradient_clip_val\\\", 1),\\n            num_sanity_val_steps=self.hparams.get(\\\"val_sanity_checks\\\", 0),\\n            gpus=1,\\n        )\\n        self.trainer.fit(self)\\n\\n    @torch.no_grad()\\n    def make_submission_frame(self, x_test):\\n        test_dataset = DatasetSentinel(x_test)\\n        test_dataloader = DataLoader(\\n            test_dataset, num_workers=self.num_workers, batch_size=self.batch_size\\n        )\\n        submission_frame = pd.DataFrame(index=x_test.ID, columns=[\\\"x\\\", \\\"y\\\"])\\n        for batch in tqdm(test_dataloader, total=len(test_dataloader)):\\n            x = batch[\\\"image\\\"]\\n            preds = self.eval().forward(x)\\n            #print(batch[\\\"image_id\\\"], preds, submission_frame)\\n            submission_frame.loc[batch[\\\"image_id\\\"], [\\\"x\\\", \\\"y\\\"]] = (\\n                preds.detach().numpy().squeeze()\\n            )\\n        submission_frame.x = submission_frame.x.astype(float)\\n        submission_frame.y = submission_frame.y.astype(float)\\n        return submission_frame\";\n",
       "                var nbb_formatted_code = \"class PretrainedSentinelModel(pl.LightningModule):\\n    def __init__(self, hparams):\\n        super(PretrainedSentinelModel, self).__init__()\\n        self.hparams = hparams\\n\\n        # hyperparameters for training the model with their default values as second argument\\n        self.learning_rate = self.hparams.get(\\\"lr\\\", 2e-4)\\n        self.hidden_size = self.hparams.get(\\\"embedding_dim\\\", 50)\\n        self.dropout = self.hparams.get(\\\"dropout\\\", 0.1)\\n        self.max_epochs = self.hparams.get(\\\"max_epochs\\\", 1)\\n        self.num_workers = self.hparams.get(\\\"num_workers\\\", 0)\\n        self.batch_size = self.hparams.get(\\\"batch_size\\\", 10)\\n\\n        # our datasets\\n        self.x_train = self.hparams.get(\\\"x_train\\\")\\n        self.y_train = self.hparams.get(\\\"y_train\\\")\\n        self.x_val = self.hparams.get(\\\"x_val\\\")\\n        self.y_val = self.hparams.get(\\\"y_val\\\")\\n\\n        self.num_outputs = 2  # two predictions for field displacement\\n\\n        # Where final model will be saved\\n        self.output_path = Path.cwd() / self.hparams.get(\\\"output_path\\\", \\\"model-outputs\\\")\\n        self.output_path.mkdir(exist_ok=True)\\n\\n        # Where TensorBoard logs will be saved\\n        self.log_path = Path.cwd() / self.hparams.get(\\\"log_path\\\", \\\"logs\\\")\\n        self.log_path.mkdir(exist_ok=True)\\n        self.logger = pl.loggers.TensorBoardLogger(\\n            self.log_path, name=\\\"benchmark_model\\\"\\n        )\\n\\n        # Instantiate training and validation datasets\\n        self.train_dataset = DatasetSentinel(self.x_train, self.y_train)\\n        self.val_dataset = DatasetSentinel(self.x_val, self.y_val)\\n        self.model = self.prepare_model()\\n\\n    def prepare_model(self):\\n        res_model = models.resnet152(pretrained=True)\\n        # Input size of 2048 for resnet152\\n        # https://pytorch.org/hub/pytorch_vision_resnet/\\n        res_model.fc = nn.Sequential(\\n            nn.Linear(2048, self.hidden_size),\\n            nn.ReLU(inplace=True),\\n            nn.Linear(self.hidden_size, self.num_outputs),\\n        )\\n\\n        return res_model\\n\\n    def forward(self, image):\\n        return self.model(image)\\n\\n    def training_step(self, batch, batch_idx):\\n        x = batch[\\\"image\\\"]\\n        y = batch[\\\"label\\\"]\\n        criterion = L1Loss()\\n        # Switch to training mode\\n        loss = criterion(\\n            self.model.train().forward(x).squeeze(), y.type(torch.FloatTensor).cuda()\\n        )\\n        tensorboard_logs = {\\\"train_loss\\\": loss}\\n        self.log(\\\"train_loss\\\", loss, on_step=True, on_epoch=True, prog_bar=True)\\n        return {\\\"loss\\\": loss}\\n\\n    def validation_step(self, batch, batch_idx):\\n        x = batch[\\\"image\\\"]\\n        y = batch[\\\"label\\\"]\\n\\n        criterion = L1Loss()\\n        # Switch to evaluation mode\\n        loss = criterion(\\n            self.model.eval().forward(x).squeeze(), y.type(torch.FloatTensor).cuda()\\n        )\\n        tensorboard_logs = {\\\"val_loss\\\": loss}\\n        self.log(\\\"val_loss\\\", loss, on_step=True, on_epoch=True, prog_bar=True)\\n        return {\\\"batch_val_loss\\\": loss}\\n\\n    def train_dataloader(self):\\n        return DataLoader(\\n            self.train_dataset, num_workers=self.num_workers, batch_size=self.batch_size\\n        )\\n\\n    def val_dataloader(self):\\n        return DataLoader(\\n            self.val_dataset, num_workers=self.num_workers, batch_size=self.batch_size\\n        )\\n\\n    def configure_optimizers(self):\\n        return torch.optim.AdamW(self.model.parameters(), lr=self.learning_rate)\\n\\n    ## Convenience Methods ##\\n\\n    def fit(self):\\n        self.trainer = pl.Trainer(\\n            max_epochs=self.max_epochs,\\n            default_root_dir=self.output_path,\\n            logger=self.logger,\\n            checkpoint_callback=pl.callbacks.ModelCheckpoint(\\n                filepath=self.output_path,\\n                monitor=\\\"val_loss_epoch\\\",\\n                mode=\\\"min\\\",\\n                verbose=True,\\n            ),\\n            gradient_clip_val=self.hparams.get(\\\"gradient_clip_val\\\", 1),\\n            num_sanity_val_steps=self.hparams.get(\\\"val_sanity_checks\\\", 0),\\n            gpus=1,\\n        )\\n        self.trainer.fit(self)\\n\\n    @torch.no_grad()\\n    def make_submission_frame(self, x_test):\\n        test_dataset = DatasetSentinel(x_test)\\n        test_dataloader = DataLoader(\\n            test_dataset, num_workers=self.num_workers, batch_size=self.batch_size\\n        )\\n        submission_frame = pd.DataFrame(index=x_test.ID, columns=[\\\"x\\\", \\\"y\\\"])\\n        for batch in tqdm(test_dataloader, total=len(test_dataloader)):\\n            x = batch[\\\"image\\\"]\\n            preds = self.eval().forward(x)\\n            # print(batch[\\\"image_id\\\"], preds, submission_frame)\\n            submission_frame.loc[batch[\\\"image_id\\\"], [\\\"x\\\", \\\"y\\\"]] = (\\n                preds.detach().numpy().squeeze()\\n            )\\n        submission_frame.x = submission_frame.x.astype(float)\\n        submission_frame.y = submission_frame.y.astype(float)\\n        return submission_frame\";\n",
       "                var nbb_cells = Jupyter.notebook.get_cells();\n",
       "                for (var i = 0; i < nbb_cells.length; ++i) {\n",
       "                    if (nbb_cells[i].input_prompt_number == nbb_cell_id) {\n",
       "                        if (nbb_cells[i].get_text() == nbb_unformatted_code) {\n",
       "                             nbb_cells[i].set_text(nbb_formatted_code);\n",
       "                        }\n",
       "                        break;\n",
       "                    }\n",
       "                }\n",
       "            }, 500);\n",
       "            "
      ],
      "text/plain": [
       "<IPython.core.display.Javascript object>"
      ]
     },
     "metadata": {},
     "output_type": "display_data"
    }
   ],
   "source": [
    "class PretrainedSentinelModel(pl.LightningModule):\n",
    "    def __init__(self, hparams):\n",
    "        super(PretrainedSentinelModel, self).__init__()\n",
    "        self.hparams = hparams\n",
    "\n",
    "        # hyperparameters for training the model with their default values as second argument\n",
    "        self.learning_rate = self.hparams.get(\"lr\", 2e-4)\n",
    "        self.hidden_size = self.hparams.get(\"embedding_dim\", 50)\n",
    "        self.dropout = self.hparams.get(\"dropout\", 0.1)\n",
    "        self.max_epochs = self.hparams.get(\"max_epochs\", 1)\n",
    "        self.num_workers = self.hparams.get(\"num_workers\", 0)\n",
    "        self.batch_size = self.hparams.get(\"batch_size\", 10)\n",
    "\n",
    "        # our datasets\n",
    "        self.x_train = self.hparams.get(\"x_train\")\n",
    "        self.y_train = self.hparams.get(\"y_train\")\n",
    "        self.x_val = self.hparams.get(\"x_val\")\n",
    "        self.y_val = self.hparams.get(\"y_val\")\n",
    "\n",
    "        self.num_outputs = 2  # two predictions for field displacement\n",
    "\n",
    "        # Where final model will be saved\n",
    "        self.output_path = Path.cwd() / self.hparams.get(\"output_path\", \"model-outputs\")\n",
    "        self.output_path.mkdir(exist_ok=True)\n",
    "\n",
    "        # Where TensorBoard logs will be saved\n",
    "        self.log_path = Path.cwd() / self.hparams.get(\"log_path\", \"logs\")\n",
    "        self.log_path.mkdir(exist_ok=True)\n",
    "        self.logger = pl.loggers.TensorBoardLogger(\n",
    "            self.log_path, name=\"benchmark_model\"\n",
    "        )\n",
    "\n",
    "        # Instantiate training and validation datasets\n",
    "        self.train_dataset = DatasetSentinel(self.x_train, self.y_train)\n",
    "        self.val_dataset = DatasetSentinel(self.x_val, self.y_val)\n",
    "        self.model = self.prepare_model()\n",
    "\n",
    "    def prepare_model(self):\n",
    "        res_model = models.resnet152(pretrained=True)\n",
    "        # Input size of 2048 for resnet152\n",
    "        # https://pytorch.org/hub/pytorch_vision_resnet/\n",
    "        res_model.fc = nn.Sequential(\n",
    "            nn.Linear(2048, self.hidden_size),\n",
    "            nn.ReLU(inplace=True),\n",
    "            nn.Linear(self.hidden_size, self.num_outputs),\n",
    "        )\n",
    "\n",
    "        return res_model\n",
    "\n",
    "    def forward(self, image):\n",
    "        return self.model(image)\n",
    "\n",
    "    def training_step(self, batch, batch_idx):\n",
    "        x = batch[\"image\"]\n",
    "        y = batch[\"label\"]\n",
    "        criterion = L1Loss()\n",
    "        # Switch to training mode\n",
    "        loss = criterion(\n",
    "            self.model.train().forward(x).squeeze(), y.type(torch.FloatTensor).cuda()\n",
    "        )\n",
    "        tensorboard_logs = {\"train_loss\": loss}\n",
    "        self.log(\"train_loss\", loss, on_step=True, on_epoch=True, prog_bar=True)\n",
    "        return {\"loss\": loss}\n",
    "\n",
    "    def validation_step(self, batch, batch_idx):\n",
    "        x = batch[\"image\"]\n",
    "        y = batch[\"label\"]\n",
    "\n",
    "        criterion = L1Loss()\n",
    "        # Switch to evaluation mode\n",
    "        loss = criterion(\n",
    "            self.model.eval().forward(x).squeeze(), y.type(torch.FloatTensor).cuda()\n",
    "        )\n",
    "        tensorboard_logs = {\"val_loss\": loss}\n",
    "        self.log(\"val_loss\", loss, on_step=True, on_epoch=True, prog_bar=True)\n",
    "        return {\"batch_val_loss\": loss}\n",
    "\n",
    "    def train_dataloader(self):\n",
    "        return DataLoader(\n",
    "            self.train_dataset, num_workers=self.num_workers, batch_size=self.batch_size\n",
    "        )\n",
    "\n",
    "    def val_dataloader(self):\n",
    "        return DataLoader(\n",
    "            self.val_dataset, num_workers=self.num_workers, batch_size=self.batch_size\n",
    "        )\n",
    "\n",
    "    def configure_optimizers(self):\n",
    "        return torch.optim.AdamW(self.model.parameters(), lr=self.learning_rate)\n",
    "\n",
    "    ## Convenience Methods ##\n",
    "\n",
    "    def fit(self):\n",
    "        self.trainer = pl.Trainer(\n",
    "            max_epochs=self.max_epochs,\n",
    "            default_root_dir=self.output_path,\n",
    "            logger=self.logger,\n",
    "            checkpoint_callback=pl.callbacks.ModelCheckpoint(\n",
    "                filepath=self.output_path,\n",
    "                monitor=\"val_loss_epoch\",\n",
    "                mode=\"min\",\n",
    "                verbose=True,\n",
    "            ),\n",
    "            gradient_clip_val=self.hparams.get(\"gradient_clip_val\", 1),\n",
    "            num_sanity_val_steps=self.hparams.get(\"val_sanity_checks\", 0),\n",
    "            gpus=1,\n",
    "        )\n",
    "        self.trainer.fit(self)\n",
    "\n",
    "    @torch.no_grad()\n",
    "    def make_submission_frame(self, x_test):\n",
    "        test_dataset = DatasetSentinel(x_test)\n",
    "        test_dataloader = DataLoader(\n",
    "            test_dataset, num_workers=self.num_workers, batch_size=self.batch_size\n",
    "        )\n",
    "        submission_frame = pd.DataFrame(index=x_test.ID, columns=[\"x\", \"y\"])\n",
    "        for batch in tqdm(test_dataloader, total=len(test_dataloader)):\n",
    "            x = batch[\"image\"]\n",
    "            preds = self.eval().forward(x)\n",
    "            # print(batch[\"image_id\"], preds, submission_frame)\n",
    "            submission_frame.loc[batch[\"image_id\"], [\"x\", \"y\"]] = (\n",
    "                preds.detach().numpy().squeeze()\n",
    "            )\n",
    "        submission_frame.x = submission_frame.x.astype(float)\n",
    "        submission_frame.y = submission_frame.y.astype(float)\n",
    "        return submission_frame"
   ]
  },
  {
   "cell_type": "markdown",
   "metadata": {},
   "source": [
    "Now we'll split into training and validation sets. We don't need any particular shuffling since we assume the data rows are independent. I have kfold crossvalidation commented out in case we want to use that later."
   ]
  },
  {
   "cell_type": "code",
   "execution_count": 22,
   "metadata": {
    "scrolled": true
   },
   "outputs": [
    {
     "data": {
      "text/html": [
       "<div>\n",
       "<style scoped>\n",
       "    .dataframe tbody tr th:only-of-type {\n",
       "        vertical-align: middle;\n",
       "    }\n",
       "\n",
       "    .dataframe tbody tr th {\n",
       "        vertical-align: top;\n",
       "    }\n",
       "\n",
       "    .dataframe thead th {\n",
       "        text-align: right;\n",
       "    }\n",
       "</style>\n",
       "<table border=\"1\" class=\"dataframe\">\n",
       "  <thead>\n",
       "    <tr style=\"text-align: right;\">\n",
       "      <th></th>\n",
       "      <th>ID</th>\n",
       "      <th>Year</th>\n",
       "      <th>PlotSize_acres</th>\n",
       "      <th>Yield</th>\n",
       "      <th>Quality</th>\n",
       "      <th>file_name</th>\n",
       "    </tr>\n",
       "  </thead>\n",
       "  <tbody>\n",
       "    <tr>\n",
       "      <th>0</th>\n",
       "      <td>id_ade6610c</td>\n",
       "      <td>2018</td>\n",
       "      <td>0.25</td>\n",
       "      <td>NaN</td>\n",
       "      <td>2</td>\n",
       "      <td>C:/Users/micha/OneDrive/Documents/GitHub/Lacun...</td>\n",
       "    </tr>\n",
       "    <tr>\n",
       "      <th>1</th>\n",
       "      <td>id_c987f14e</td>\n",
       "      <td>2018</td>\n",
       "      <td>2.00</td>\n",
       "      <td>NaN</td>\n",
       "      <td>1</td>\n",
       "      <td>C:/Users/micha/OneDrive/Documents/GitHub/Lacun...</td>\n",
       "    </tr>\n",
       "    <tr>\n",
       "      <th>2</th>\n",
       "      <td>id_92e2cdbf</td>\n",
       "      <td>2016</td>\n",
       "      <td>1.00</td>\n",
       "      <td>0.37125</td>\n",
       "      <td>1</td>\n",
       "      <td>C:/Users/micha/OneDrive/Documents/GitHub/Lacun...</td>\n",
       "    </tr>\n",
       "    <tr>\n",
       "      <th>3</th>\n",
       "      <td>id_a1ce519e</td>\n",
       "      <td>2017</td>\n",
       "      <td>1.50</td>\n",
       "      <td>0.26875</td>\n",
       "      <td>3</td>\n",
       "      <td>C:/Users/micha/OneDrive/Documents/GitHub/Lacun...</td>\n",
       "    </tr>\n",
       "    <tr>\n",
       "      <th>4</th>\n",
       "      <td>id_fe53ff60</td>\n",
       "      <td>2018</td>\n",
       "      <td>0.25</td>\n",
       "      <td>NaN</td>\n",
       "      <td>1</td>\n",
       "      <td>C:/Users/micha/OneDrive/Documents/GitHub/Lacun...</td>\n",
       "    </tr>\n",
       "  </tbody>\n",
       "</table>\n",
       "</div>"
      ],
      "text/plain": [
       "            ID  Year  PlotSize_acres    Yield  Quality  \\\n",
       "0  id_ade6610c  2018            0.25      NaN        2   \n",
       "1  id_c987f14e  2018            2.00      NaN        1   \n",
       "2  id_92e2cdbf  2016            1.00  0.37125        1   \n",
       "3  id_a1ce519e  2017            1.50  0.26875        3   \n",
       "4  id_fe53ff60  2018            0.25      NaN        1   \n",
       "\n",
       "                                           file_name  \n",
       "0  C:/Users/micha/OneDrive/Documents/GitHub/Lacun...  \n",
       "1  C:/Users/micha/OneDrive/Documents/GitHub/Lacun...  \n",
       "2  C:/Users/micha/OneDrive/Documents/GitHub/Lacun...  \n",
       "3  C:/Users/micha/OneDrive/Documents/GitHub/Lacun...  \n",
       "4  C:/Users/micha/OneDrive/Documents/GitHub/Lacun...  "
      ]
     },
     "execution_count": 22,
     "metadata": {},
     "output_type": "execute_result"
    },
    {
     "data": {
      "application/javascript": [
       "\n",
       "            setTimeout(function() {\n",
       "                var nbb_cell_id = 22;\n",
       "                var nbb_unformatted_code = \"## import the KFold object from sklearn\\n#from sklearn.model_selection import KFold\\n\\n## We'll need this when we fit models\\nfrom sklearn.base import clone\\n\\n# kfold = KFold(n_splits=2, shuffle=True, random_state=440)\\n\\nsplit =  int(len(train_data)*.8)\\nX_train = train_data.iloc[:split,:]\\nX_val= train_data.iloc[split+1:,:]\\ny_train = train_labels.iloc[:split,:]\\ny_val = train_labels.iloc[split:,:]\\n\\nX_train.head()\";\n",
       "                var nbb_formatted_code = \"## import the KFold object from sklearn\\n# from sklearn.model_selection import KFold\\n\\n## We'll need this when we fit models\\nfrom sklearn.base import clone\\n\\n# kfold = KFold(n_splits=2, shuffle=True, random_state=440)\\n\\nsplit = int(len(train_data) * 0.8)\\nX_train = train_data.iloc[:split, :]\\nX_val = train_data.iloc[split + 1 :, :]\\ny_train = train_labels.iloc[:split, :]\\ny_val = train_labels.iloc[split:, :]\\n\\nX_train.head()\";\n",
       "                var nbb_cells = Jupyter.notebook.get_cells();\n",
       "                for (var i = 0; i < nbb_cells.length; ++i) {\n",
       "                    if (nbb_cells[i].input_prompt_number == nbb_cell_id) {\n",
       "                        if (nbb_cells[i].get_text() == nbb_unformatted_code) {\n",
       "                             nbb_cells[i].set_text(nbb_formatted_code);\n",
       "                        }\n",
       "                        break;\n",
       "                    }\n",
       "                }\n",
       "            }, 500);\n",
       "            "
      ],
      "text/plain": [
       "<IPython.core.display.Javascript object>"
      ]
     },
     "metadata": {},
     "output_type": "display_data"
    }
   ],
   "source": [
    "## import the KFold object from sklearn\n",
    "#from sklearn.model_selection import KFold\n",
    "\n",
    "## We'll need this when we fit models\n",
    "from sklearn.base import clone\n",
    "\n",
    "# kfold = KFold(n_splits=2, shuffle=True, random_state=440)\n",
    "\n",
    "split =  int(len(train_data)*.8)\n",
    "X_train = train_data.iloc[:split,:]\n",
    "X_val= train_data.iloc[split+1:,:]\n",
    "y_train = train_labels.iloc[:split,:]\n",
    "y_val = train_labels.iloc[split:,:]\n",
    "\n",
    "X_train.head()\n"
   ]
  },
  {
   "cell_type": "markdown",
   "metadata": {},
   "source": [
    "Now it's time to run the model. For hyperparameter explanation please see the documentation for PyTorch. "
   ]
  },
  {
   "cell_type": "code",
   "execution_count": 23,
   "metadata": {},
   "outputs": [
    {
     "name": "stderr",
     "output_type": "stream",
     "text": [
      "GPU available: True, used: True\n",
      "TPU available: None, using: 0 TPU cores\n",
      "LOCAL_RANK: 0 - CUDA_VISIBLE_DEVICES: [0]\n",
      "\n",
      "  | Name  | Type   | Params\n",
      "---------------------------------\n",
      "0 | model | ResNet | 58.3 M\n",
      "---------------------------------\n",
      "58.3 M    Trainable params\n",
      "0         Non-trainable params\n",
      "58.3 M    Total params\n"
     ]
    },
    {
     "data": {
      "application/vnd.jupyter.widget-view+json": {
       "model_id": "84551907a3d04345a85b30876beb68c8",
       "version_major": 2,
       "version_minor": 0
      },
      "text/plain": [
       "HBox(children=(HTML(value='Training'), FloatProgress(value=1.0, bar_style='info', layout=Layout(flex='2'), max…"
      ]
     },
     "metadata": {},
     "output_type": "display_data"
    },
    {
     "data": {
      "application/vnd.jupyter.widget-view+json": {
       "model_id": "",
       "version_major": 2,
       "version_minor": 0
      },
      "text/plain": [
       "HBox(children=(HTML(value='Validating'), FloatProgress(value=1.0, bar_style='info', layout=Layout(flex='2'), m…"
      ]
     },
     "metadata": {},
     "output_type": "display_data"
    },
    {
     "name": "stderr",
     "output_type": "stream",
     "text": [
      "Epoch 0, global step 29: val_loss_epoch reached 0.18508 (best 0.18508), saving model to \"C:\\Users\\micha\\OneDrive\\Documents\\GitHub\\CNN\\model-outputs\\epoch=0-step=29-v0.ckpt\" as top 1\n"
     ]
    },
    {
     "data": {
      "application/vnd.jupyter.widget-view+json": {
       "model_id": "",
       "version_major": 2,
       "version_minor": 0
      },
      "text/plain": [
       "HBox(children=(HTML(value='Validating'), FloatProgress(value=1.0, bar_style='info', layout=Layout(flex='2'), m…"
      ]
     },
     "metadata": {},
     "output_type": "display_data"
    },
    {
     "name": "stderr",
     "output_type": "stream",
     "text": [
      "Epoch 1, global step 59: val_loss_epoch reached 0.16742 (best 0.16742), saving model to \"C:\\Users\\micha\\OneDrive\\Documents\\GitHub\\CNN\\model-outputs\\epoch=1-step=59-v0.ckpt\" as top 1\n"
     ]
    },
    {
     "data": {
      "application/vnd.jupyter.widget-view+json": {
       "model_id": "",
       "version_major": 2,
       "version_minor": 0
      },
      "text/plain": [
       "HBox(children=(HTML(value='Validating'), FloatProgress(value=1.0, bar_style='info', layout=Layout(flex='2'), m…"
      ]
     },
     "metadata": {},
     "output_type": "display_data"
    },
    {
     "name": "stderr",
     "output_type": "stream",
     "text": [
      "Epoch 2, global step 89: val_loss_epoch reached 0.16433 (best 0.16433), saving model to \"C:\\Users\\micha\\OneDrive\\Documents\\GitHub\\CNN\\model-outputs\\epoch=2-step=89-v0.ckpt\" as top 1\n"
     ]
    },
    {
     "data": {
      "application/vnd.jupyter.widget-view+json": {
       "model_id": "",
       "version_major": 2,
       "version_minor": 0
      },
      "text/plain": [
       "HBox(children=(HTML(value='Validating'), FloatProgress(value=1.0, bar_style='info', layout=Layout(flex='2'), m…"
      ]
     },
     "metadata": {},
     "output_type": "display_data"
    },
    {
     "name": "stderr",
     "output_type": "stream",
     "text": [
      "Epoch 3, step 119: val_loss_epoch was not in top 1\n",
      "C:\\Users\\micha\\anaconda3\\lib\\site-packages\\pytorch_lightning\\utilities\\distributed.py:49: UserWarning: Detected KeyboardInterrupt, attempting graceful shutdown...\n",
      "  warnings.warn(*args, **kwargs)\n",
      "Epoch 4, step 131: val_loss_epoch was not in top 1\n"
     ]
    },
    {
     "name": "stdout",
     "output_type": "stream",
     "text": [
      "\n"
     ]
    },
    {
     "data": {
      "application/javascript": [
       "\n",
       "            setTimeout(function() {\n",
       "                var nbb_cell_id = 23;\n",
       "                var nbb_unformatted_code = \"# You can loop through all the splits like so\\n# for i in range(2):\\n\\n# result = next(kfold.split(X), None)\\n\\n# X_train, X_val = X.iloc[result[0]], X.iloc[result[1]]\\n# y_train, y_val = y.iloc[result[0]], y.iloc[result[1]]\\n\\nhparams = {\\n    # Required hparams\\n    \\\"x_train\\\": X_train,\\n    \\\"y_train\\\": y_train,\\n    \\\"x_val\\\": X_val,\\n    \\\"y_val\\\": y_val,\\n    # Optional hparams\\n    \\\"lr\\\": 2e-4,\\n    \\\"embedding_dim\\\": 100,\\n    \\\"dropout\\\": 0.5,\\n    \\\"max_epochs\\\": 20,\\n    \\\"batch_size\\\": 10,\\n    \\\"num_workers\\\": 0,\\n    \\\"gradient_clip_val\\\": 1,\\n    \\\"val_sanity_checks\\\": 0,\\n    \\\"output_path\\\": \\\"model-outputs\\\",\\n    \\\"log_path\\\": \\\"logs\\\",\\n}\\n\\n# best_checkpoint = str(Path(\\\"model-outputs\\\") / \\\"epoch=8-step=40481.ckpt\\\")\\nSentinel_model = PretrainedSentinelModel(hparams=hparams)\\n# storm_model = PretrainedWindModel.load_from_checkpoint(best_checkpoint)\\nSentinel_model.fit()\";\n",
       "                var nbb_formatted_code = \"# You can loop through all the splits like so\\n# for i in range(2):\\n\\n# result = next(kfold.split(X), None)\\n\\n# X_train, X_val = X.iloc[result[0]], X.iloc[result[1]]\\n# y_train, y_val = y.iloc[result[0]], y.iloc[result[1]]\\n\\nhparams = {\\n    # Required hparams\\n    \\\"x_train\\\": X_train,\\n    \\\"y_train\\\": y_train,\\n    \\\"x_val\\\": X_val,\\n    \\\"y_val\\\": y_val,\\n    # Optional hparams\\n    \\\"lr\\\": 2e-4,\\n    \\\"embedding_dim\\\": 100,\\n    \\\"dropout\\\": 0.5,\\n    \\\"max_epochs\\\": 20,\\n    \\\"batch_size\\\": 10,\\n    \\\"num_workers\\\": 0,\\n    \\\"gradient_clip_val\\\": 1,\\n    \\\"val_sanity_checks\\\": 0,\\n    \\\"output_path\\\": \\\"model-outputs\\\",\\n    \\\"log_path\\\": \\\"logs\\\",\\n}\\n\\n# best_checkpoint = str(Path(\\\"model-outputs\\\") / \\\"epoch=8-step=40481.ckpt\\\")\\nSentinel_model = PretrainedSentinelModel(hparams=hparams)\\n# storm_model = PretrainedWindModel.load_from_checkpoint(best_checkpoint)\\nSentinel_model.fit()\";\n",
       "                var nbb_cells = Jupyter.notebook.get_cells();\n",
       "                for (var i = 0; i < nbb_cells.length; ++i) {\n",
       "                    if (nbb_cells[i].input_prompt_number == nbb_cell_id) {\n",
       "                        if (nbb_cells[i].get_text() == nbb_unformatted_code) {\n",
       "                             nbb_cells[i].set_text(nbb_formatted_code);\n",
       "                        }\n",
       "                        break;\n",
       "                    }\n",
       "                }\n",
       "            }, 500);\n",
       "            "
      ],
      "text/plain": [
       "<IPython.core.display.Javascript object>"
      ]
     },
     "metadata": {},
     "output_type": "display_data"
    }
   ],
   "source": [
    "# You can loop through all the splits like so\n",
    "# for i in range(2):\n",
    "\n",
    "# result = next(kfold.split(X), None)\n",
    "\n",
    "# X_train, X_val = X.iloc[result[0]], X.iloc[result[1]]\n",
    "# y_train, y_val = y.iloc[result[0]], y.iloc[result[1]]\n",
    "\n",
    "hparams = {\n",
    "    # Required hparams\n",
    "    \"x_train\": X_train,\n",
    "    \"y_train\": y_train,\n",
    "    \"x_val\": X_val,\n",
    "    \"y_val\": y_val,\n",
    "    # Optional hparams\n",
    "    \"lr\": 2e-4,\n",
    "    \"embedding_dim\": 100,\n",
    "    \"dropout\": 0.5,\n",
    "    \"max_epochs\": 20,\n",
    "    \"batch_size\": 10,\n",
    "    \"num_workers\": 0,\n",
    "    \"gradient_clip_val\": 1,\n",
    "    \"val_sanity_checks\": 0,\n",
    "    \"output_path\": \"model-outputs\",\n",
    "    \"log_path\": \"logs\",\n",
    "}\n",
    "\n",
    "# best_checkpoint = str(Path(\"model-outputs\") / \"epoch=8-step=40481.ckpt\")\n",
    "Sentinel_model = PretrainedSentinelModel(hparams=hparams)\n",
    "# storm_model = PretrainedWindModel.load_from_checkpoint(best_checkpoint)\n",
    "Sentinel_model.fit()"
   ]
  },
  {
   "cell_type": "markdown",
   "metadata": {},
   "source": [
    "Now it's time to test our model. We'll load up the test CSV file and create the file names just like for the training data."
   ]
  },
  {
   "cell_type": "code",
   "execution_count": 38,
   "metadata": {},
   "outputs": [
    {
     "data": {
      "text/html": [
       "<div>\n",
       "<style scoped>\n",
       "    .dataframe tbody tr th:only-of-type {\n",
       "        vertical-align: middle;\n",
       "    }\n",
       "\n",
       "    .dataframe tbody tr th {\n",
       "        vertical-align: top;\n",
       "    }\n",
       "\n",
       "    .dataframe thead th {\n",
       "        text-align: right;\n",
       "    }\n",
       "</style>\n",
       "<table border=\"1\" class=\"dataframe\">\n",
       "  <thead>\n",
       "    <tr style=\"text-align: right;\">\n",
       "      <th></th>\n",
       "      <th>ID</th>\n",
       "      <th>Year</th>\n",
       "      <th>PlotSize_acres</th>\n",
       "      <th>Yield</th>\n",
       "      <th>file_name</th>\n",
       "    </tr>\n",
       "  </thead>\n",
       "  <tbody>\n",
       "    <tr>\n",
       "      <th>0</th>\n",
       "      <td>id_e7032b10</td>\n",
       "      <td>2016</td>\n",
       "      <td>0.50</td>\n",
       "      <td>0.0</td>\n",
       "      <td>C:/Users/micha/OneDrive/Documents/GitHub/Lacun...</td>\n",
       "    </tr>\n",
       "    <tr>\n",
       "      <th>1</th>\n",
       "      <td>id_ae7cb51e</td>\n",
       "      <td>2018</td>\n",
       "      <td>1.00</td>\n",
       "      <td>NaN</td>\n",
       "      <td>C:/Users/micha/OneDrive/Documents/GitHub/Lacun...</td>\n",
       "    </tr>\n",
       "    <tr>\n",
       "      <th>2</th>\n",
       "      <td>id_e59f7730</td>\n",
       "      <td>2018</td>\n",
       "      <td>1.00</td>\n",
       "      <td>NaN</td>\n",
       "      <td>C:/Users/micha/OneDrive/Documents/GitHub/Lacun...</td>\n",
       "    </tr>\n",
       "    <tr>\n",
       "      <th>3</th>\n",
       "      <td>id_b9011c86</td>\n",
       "      <td>2018</td>\n",
       "      <td>1.50</td>\n",
       "      <td>NaN</td>\n",
       "      <td>C:/Users/micha/OneDrive/Documents/GitHub/Lacun...</td>\n",
       "    </tr>\n",
       "    <tr>\n",
       "      <th>4</th>\n",
       "      <td>id_caaeb9f8</td>\n",
       "      <td>2018</td>\n",
       "      <td>0.25</td>\n",
       "      <td>NaN</td>\n",
       "      <td>C:/Users/micha/OneDrive/Documents/GitHub/Lacun...</td>\n",
       "    </tr>\n",
       "  </tbody>\n",
       "</table>\n",
       "</div>"
      ],
      "text/plain": [
       "            ID  Year  PlotSize_acres  Yield  \\\n",
       "0  id_e7032b10  2016            0.50    0.0   \n",
       "1  id_ae7cb51e  2018            1.00    NaN   \n",
       "2  id_e59f7730  2018            1.00    NaN   \n",
       "3  id_b9011c86  2018            1.50    NaN   \n",
       "4  id_caaeb9f8  2018            0.25    NaN   \n",
       "\n",
       "                                           file_name  \n",
       "0  C:/Users/micha/OneDrive/Documents/GitHub/Lacun...  \n",
       "1  C:/Users/micha/OneDrive/Documents/GitHub/Lacun...  \n",
       "2  C:/Users/micha/OneDrive/Documents/GitHub/Lacun...  \n",
       "3  C:/Users/micha/OneDrive/Documents/GitHub/Lacun...  \n",
       "4  C:/Users/micha/OneDrive/Documents/GitHub/Lacun...  "
      ]
     },
     "execution_count": 38,
     "metadata": {},
     "output_type": "execute_result"
    },
    {
     "data": {
      "application/javascript": [
       "\n",
       "            setTimeout(function() {\n",
       "                var nbb_cell_id = 38;\n",
       "                var nbb_unformatted_code = \"\\ntest_data = pd.read_csv(DATA_PATH + \\\"test.csv\\\")\\nfile_num = test_data[\\\"ID\\\"]\\ntest_data[\\\"file_name\\\"] = [\\n    DATA_PATH + \\\"sentinel/\\\" + x[3:] + \\\".tif\\\" for x in test_data[\\\"ID\\\"]\\n]\\ntest_data.head()\";\n",
       "                var nbb_formatted_code = \"test_data = pd.read_csv(DATA_PATH + \\\"test.csv\\\")\\nfile_num = test_data[\\\"ID\\\"]\\ntest_data[\\\"file_name\\\"] = [\\n    DATA_PATH + \\\"sentinel/\\\" + x[3:] + \\\".tif\\\" for x in test_data[\\\"ID\\\"]\\n]\\ntest_data.head()\";\n",
       "                var nbb_cells = Jupyter.notebook.get_cells();\n",
       "                for (var i = 0; i < nbb_cells.length; ++i) {\n",
       "                    if (nbb_cells[i].input_prompt_number == nbb_cell_id) {\n",
       "                        if (nbb_cells[i].get_text() == nbb_unformatted_code) {\n",
       "                             nbb_cells[i].set_text(nbb_formatted_code);\n",
       "                        }\n",
       "                        break;\n",
       "                    }\n",
       "                }\n",
       "            }, 500);\n",
       "            "
      ],
      "text/plain": [
       "<IPython.core.display.Javascript object>"
      ]
     },
     "metadata": {},
     "output_type": "display_data"
    }
   ],
   "source": [
    "\n",
    "test_data = pd.read_csv(DATA_PATH + \"test.csv\")\n",
    "file_num = test_data[\"ID\"]\n",
    "test_data[\"file_name\"] = [\n",
    "    DATA_PATH + \"sentinel/\" + x[3:] + \".tif\" for x in test_data[\"ID\"]\n",
    "]\n",
    "test_data.head()\n"
   ]
  },
  {
   "cell_type": "markdown",
   "metadata": {},
   "source": [
    "Now we load up the best performing checkpoint and run the model once on the test data using the make_submission_frame method."
   ]
  },
  {
   "cell_type": "code",
   "execution_count": 49,
   "metadata": {},
   "outputs": [
    {
     "name": "stderr",
     "output_type": "stream",
     "text": [
      "100%|████████████████████████████████████████████████████████████████████████████████| 162/162 [08:37<00:00,  3.19s/it]\n"
     ]
    },
    {
     "data": {
      "text/html": [
       "<div>\n",
       "<style scoped>\n",
       "    .dataframe tbody tr th:only-of-type {\n",
       "        vertical-align: middle;\n",
       "    }\n",
       "\n",
       "    .dataframe tbody tr th {\n",
       "        vertical-align: top;\n",
       "    }\n",
       "\n",
       "    .dataframe thead th {\n",
       "        text-align: right;\n",
       "    }\n",
       "</style>\n",
       "<table border=\"1\" class=\"dataframe\">\n",
       "  <thead>\n",
       "    <tr style=\"text-align: right;\">\n",
       "      <th></th>\n",
       "      <th>x</th>\n",
       "      <th>y</th>\n",
       "    </tr>\n",
       "  </thead>\n",
       "  <tbody>\n",
       "    <tr>\n",
       "      <th>count</th>\n",
       "      <td>1613.000000</td>\n",
       "      <td>1613.000000</td>\n",
       "    </tr>\n",
       "    <tr>\n",
       "      <th>mean</th>\n",
       "      <td>0.003179</td>\n",
       "      <td>-0.011797</td>\n",
       "    </tr>\n",
       "    <tr>\n",
       "      <th>std</th>\n",
       "      <td>0.022213</td>\n",
       "      <td>0.054799</td>\n",
       "    </tr>\n",
       "    <tr>\n",
       "      <th>min</th>\n",
       "      <td>-0.102192</td>\n",
       "      <td>-0.305071</td>\n",
       "    </tr>\n",
       "    <tr>\n",
       "      <th>25%</th>\n",
       "      <td>-0.002403</td>\n",
       "      <td>-0.029283</td>\n",
       "    </tr>\n",
       "    <tr>\n",
       "      <th>50%</th>\n",
       "      <td>0.005216</td>\n",
       "      <td>-0.005797</td>\n",
       "    </tr>\n",
       "    <tr>\n",
       "      <th>75%</th>\n",
       "      <td>0.014711</td>\n",
       "      <td>0.013140</td>\n",
       "    </tr>\n",
       "    <tr>\n",
       "      <th>max</th>\n",
       "      <td>0.137384</td>\n",
       "      <td>0.142543</td>\n",
       "    </tr>\n",
       "  </tbody>\n",
       "</table>\n",
       "</div>"
      ],
      "text/plain": [
       "                 x            y\n",
       "count  1613.000000  1613.000000\n",
       "mean      0.003179    -0.011797\n",
       "std       0.022213     0.054799\n",
       "min      -0.102192    -0.305071\n",
       "25%      -0.002403    -0.029283\n",
       "50%       0.005216    -0.005797\n",
       "75%       0.014711     0.013140\n",
       "max       0.137384     0.142543"
      ]
     },
     "execution_count": 49,
     "metadata": {},
     "output_type": "execute_result"
    },
    {
     "data": {
      "application/javascript": [
       "\n",
       "            setTimeout(function() {\n",
       "                var nbb_cell_id = 49;\n",
       "                var nbb_unformatted_code = \"\\nbest_checkpoint = str(Path(\\\"model-outputs\\\") / \\\"epoch=2-step=89-v0.ckpt\\\")\\nSentinel_model = PretrainedSentinelModel.load_from_checkpoint(best_checkpoint)\\nsubmission = Sentinel_model.make_submission_frame(test_data)\\nsubmission.describe()\";\n",
       "                var nbb_formatted_code = \"best_checkpoint = str(Path(\\\"model-outputs\\\") / \\\"epoch=2-step=89-v0.ckpt\\\")\\nSentinel_model = PretrainedSentinelModel.load_from_checkpoint(best_checkpoint)\\nsubmission = Sentinel_model.make_submission_frame(test_data)\\nsubmission.describe()\";\n",
       "                var nbb_cells = Jupyter.notebook.get_cells();\n",
       "                for (var i = 0; i < nbb_cells.length; ++i) {\n",
       "                    if (nbb_cells[i].input_prompt_number == nbb_cell_id) {\n",
       "                        if (nbb_cells[i].get_text() == nbb_unformatted_code) {\n",
       "                             nbb_cells[i].set_text(nbb_formatted_code);\n",
       "                        }\n",
       "                        break;\n",
       "                    }\n",
       "                }\n",
       "            }, 500);\n",
       "            "
      ],
      "text/plain": [
       "<IPython.core.display.Javascript object>"
      ]
     },
     "metadata": {},
     "output_type": "display_data"
    }
   ],
   "source": [
    "\n",
    "best_checkpoint = str(Path(\"model-outputs\") / \"epoch=2-step=89-v0.ckpt\")\n",
    "Sentinel_model = PretrainedSentinelModel.load_from_checkpoint(best_checkpoint)\n",
    "submission = Sentinel_model.make_submission_frame(test_data)"
   ]
  },
  {
   "cell_type": "markdown",
   "metadata": {},
   "source": [
    "Let's compare some statistics on our predicted displacements versus the known training displacements."
   ]
  },
  {
   "cell_type": "code",
   "execution_count": 51,
   "metadata": {},
   "outputs": [
    {
     "name": "stdout",
     "output_type": "stream",
     "text": [
      "Test Prediction Distribution\n"
     ]
    },
    {
     "data": {
      "text/html": [
       "<div>\n",
       "<style scoped>\n",
       "    .dataframe tbody tr th:only-of-type {\n",
       "        vertical-align: middle;\n",
       "    }\n",
       "\n",
       "    .dataframe tbody tr th {\n",
       "        vertical-align: top;\n",
       "    }\n",
       "\n",
       "    .dataframe thead th {\n",
       "        text-align: right;\n",
       "    }\n",
       "</style>\n",
       "<table border=\"1\" class=\"dataframe\">\n",
       "  <thead>\n",
       "    <tr style=\"text-align: right;\">\n",
       "      <th></th>\n",
       "      <th>x</th>\n",
       "      <th>y</th>\n",
       "    </tr>\n",
       "  </thead>\n",
       "  <tbody>\n",
       "    <tr>\n",
       "      <th>count</th>\n",
       "      <td>1613.000000</td>\n",
       "      <td>1613.000000</td>\n",
       "    </tr>\n",
       "    <tr>\n",
       "      <th>mean</th>\n",
       "      <td>0.003179</td>\n",
       "      <td>-0.011797</td>\n",
       "    </tr>\n",
       "    <tr>\n",
       "      <th>std</th>\n",
       "      <td>0.022213</td>\n",
       "      <td>0.054799</td>\n",
       "    </tr>\n",
       "    <tr>\n",
       "      <th>min</th>\n",
       "      <td>-0.102192</td>\n",
       "      <td>-0.305071</td>\n",
       "    </tr>\n",
       "    <tr>\n",
       "      <th>25%</th>\n",
       "      <td>-0.002403</td>\n",
       "      <td>-0.029283</td>\n",
       "    </tr>\n",
       "    <tr>\n",
       "      <th>50%</th>\n",
       "      <td>0.005216</td>\n",
       "      <td>-0.005797</td>\n",
       "    </tr>\n",
       "    <tr>\n",
       "      <th>75%</th>\n",
       "      <td>0.014711</td>\n",
       "      <td>0.013140</td>\n",
       "    </tr>\n",
       "    <tr>\n",
       "      <th>max</th>\n",
       "      <td>0.137384</td>\n",
       "      <td>0.142543</td>\n",
       "    </tr>\n",
       "  </tbody>\n",
       "</table>\n",
       "</div>"
      ],
      "text/plain": [
       "                 x            y\n",
       "count  1613.000000  1613.000000\n",
       "mean      0.003179    -0.011797\n",
       "std       0.022213     0.054799\n",
       "min      -0.102192    -0.305071\n",
       "25%      -0.002403    -0.029283\n",
       "50%       0.005216    -0.005797\n",
       "75%       0.014711     0.013140\n",
       "max       0.137384     0.142543"
      ]
     },
     "execution_count": 51,
     "metadata": {},
     "output_type": "execute_result"
    },
    {
     "data": {
      "application/javascript": [
       "\n",
       "            setTimeout(function() {\n",
       "                var nbb_cell_id = 51;\n",
       "                var nbb_unformatted_code = \"print(\\\"Test Prediction Distribution\\\")\\nsubmission.describe()\";\n",
       "                var nbb_formatted_code = \"print(\\\"Test Prediction Distribution\\\")\\nsubmission.describe()\";\n",
       "                var nbb_cells = Jupyter.notebook.get_cells();\n",
       "                for (var i = 0; i < nbb_cells.length; ++i) {\n",
       "                    if (nbb_cells[i].input_prompt_number == nbb_cell_id) {\n",
       "                        if (nbb_cells[i].get_text() == nbb_unformatted_code) {\n",
       "                             nbb_cells[i].set_text(nbb_formatted_code);\n",
       "                        }\n",
       "                        break;\n",
       "                    }\n",
       "                }\n",
       "            }, 500);\n",
       "            "
      ],
      "text/plain": [
       "<IPython.core.display.Javascript object>"
      ]
     },
     "metadata": {},
     "output_type": "display_data"
    }
   ],
   "source": [
    "print(\"Test Prediction Distribution\")\n",
    "submission.describe()"
   ]
  },
  {
   "cell_type": "code",
   "execution_count": 52,
   "metadata": {},
   "outputs": [
    {
     "name": "stdout",
     "output_type": "stream",
     "text": [
      "training Prediction Distribution\n"
     ]
    },
    {
     "data": {
      "text/html": [
       "<div>\n",
       "<style scoped>\n",
       "    .dataframe tbody tr th:only-of-type {\n",
       "        vertical-align: middle;\n",
       "    }\n",
       "\n",
       "    .dataframe tbody tr th {\n",
       "        vertical-align: top;\n",
       "    }\n",
       "\n",
       "    .dataframe thead th {\n",
       "        text-align: right;\n",
       "    }\n",
       "</style>\n",
       "<table border=\"1\" class=\"dataframe\">\n",
       "  <thead>\n",
       "    <tr style=\"text-align: right;\">\n",
       "      <th></th>\n",
       "      <th>x</th>\n",
       "      <th>y</th>\n",
       "    </tr>\n",
       "  </thead>\n",
       "  <tbody>\n",
       "    <tr>\n",
       "      <th>count</th>\n",
       "      <td>366.000000</td>\n",
       "      <td>366.000000</td>\n",
       "    </tr>\n",
       "    <tr>\n",
       "      <th>mean</th>\n",
       "      <td>-0.016858</td>\n",
       "      <td>-0.015343</td>\n",
       "    </tr>\n",
       "    <tr>\n",
       "      <th>std</th>\n",
       "      <td>0.297545</td>\n",
       "      <td>0.289215</td>\n",
       "    </tr>\n",
       "    <tr>\n",
       "      <th>min</th>\n",
       "      <td>-1.335971</td>\n",
       "      <td>-1.310685</td>\n",
       "    </tr>\n",
       "    <tr>\n",
       "      <th>25%</th>\n",
       "      <td>-0.159259</td>\n",
       "      <td>-0.149642</td>\n",
       "    </tr>\n",
       "    <tr>\n",
       "      <th>50%</th>\n",
       "      <td>0.000000</td>\n",
       "      <td>0.000000</td>\n",
       "    </tr>\n",
       "    <tr>\n",
       "      <th>75%</th>\n",
       "      <td>0.135086</td>\n",
       "      <td>0.133186</td>\n",
       "    </tr>\n",
       "    <tr>\n",
       "      <th>max</th>\n",
       "      <td>1.112720</td>\n",
       "      <td>1.176673</td>\n",
       "    </tr>\n",
       "  </tbody>\n",
       "</table>\n",
       "</div>"
      ],
      "text/plain": [
       "                x           y\n",
       "count  366.000000  366.000000\n",
       "mean    -0.016858   -0.015343\n",
       "std      0.297545    0.289215\n",
       "min     -1.335971   -1.310685\n",
       "25%     -0.159259   -0.149642\n",
       "50%      0.000000    0.000000\n",
       "75%      0.135086    0.133186\n",
       "max      1.112720    1.176673"
      ]
     },
     "execution_count": 52,
     "metadata": {},
     "output_type": "execute_result"
    },
    {
     "data": {
      "application/javascript": [
       "\n",
       "            setTimeout(function() {\n",
       "                var nbb_cell_id = 52;\n",
       "                var nbb_unformatted_code = \"print(\\\"training Prediction Distribution\\\")\\ntrain_labels.describe()\";\n",
       "                var nbb_formatted_code = \"print(\\\"training Prediction Distribution\\\")\\ntrain_labels.describe()\";\n",
       "                var nbb_cells = Jupyter.notebook.get_cells();\n",
       "                for (var i = 0; i < nbb_cells.length; ++i) {\n",
       "                    if (nbb_cells[i].input_prompt_number == nbb_cell_id) {\n",
       "                        if (nbb_cells[i].get_text() == nbb_unformatted_code) {\n",
       "                             nbb_cells[i].set_text(nbb_formatted_code);\n",
       "                        }\n",
       "                        break;\n",
       "                    }\n",
       "                }\n",
       "            }, 500);\n",
       "            "
      ],
      "text/plain": [
       "<IPython.core.display.Javascript object>"
      ]
     },
     "metadata": {},
     "output_type": "display_data"
    }
   ],
   "source": [
    "print(\"training Prediction Distribution\")\n",
    "train_labels.describe()"
   ]
  },
  {
   "cell_type": "markdown",
   "metadata": {},
   "source": [
    "As you can see, the model is very conservative and often makes little to no correction in the position. This suggests that the performance could be improved significantly if we could add more information to the data, or build an ensemble with other models."
   ]
  },
  {
   "cell_type": "code",
   "execution_count": null,
   "metadata": {},
   "outputs": [],
   "source": [
    "submission.to_csv((DATA_PATH / \"temporalsubmission.csv\"), index=True)"
   ]
  }
 ],
 "metadata": {
  "kernelspec": {
   "display_name": "Python 3",
   "language": "python",
   "name": "python3"
  },
  "language_info": {
   "codemirror_mode": {
    "name": "ipython",
    "version": 3
   },
   "file_extension": ".py",
   "mimetype": "text/x-python",
   "name": "python",
   "nbconvert_exporter": "python",
   "pygments_lexer": "ipython3",
   "version": "3.6.13"
  }
 },
 "nbformat": 4,
 "nbformat_minor": 4
}
