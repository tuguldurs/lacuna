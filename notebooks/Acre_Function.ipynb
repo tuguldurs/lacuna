{
 "cells": [
  {
   "cell_type": "markdown",
   "id": "65cf1c42",
   "metadata": {},
   "source": [
    "authors: AJ Adejaire"
   ]
  },
  {
   "cell_type": "code",
   "execution_count": 1,
   "id": "33058c71",
   "metadata": {},
   "outputs": [],
   "source": [
    "import pandas as pd, re, os"
   ]
  },
  {
   "cell_type": "code",
   "execution_count": 2,
   "id": "500ddaf2",
   "metadata": {},
   "outputs": [],
   "source": [
    "def pix_to_acres(x=0,y=0):\n",
    "    x1=x*4700000\n",
    "    y1=y*4700000\n",
    "    return (x1,y1,x1*y1)"
   ]
  },
  {
   "cell_type": "code",
   "execution_count": null,
   "id": "ca05abcd",
   "metadata": {},
   "outputs": [],
   "source": []
  }
 ],
 "metadata": {
  "kernelspec": {
   "display_name": "Python 3",
   "language": "python",
   "name": "python3"
  },
  "language_info": {
   "codemirror_mode": {
    "name": "ipython",
    "version": 3
   },
   "file_extension": ".py",
   "mimetype": "text/x-python",
   "name": "python",
   "nbconvert_exporter": "python",
   "pygments_lexer": "ipython3",
   "version": "3.6.13"
  }
 },
 "nbformat": 4,
 "nbformat_minor": 5
}
